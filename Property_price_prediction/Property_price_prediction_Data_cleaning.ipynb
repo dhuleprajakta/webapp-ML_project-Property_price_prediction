{
 "cells": [
  {
   "cell_type": "markdown",
   "id": "c2622496-595a-4b70-85bd-041760a3f1d4",
   "metadata": {},
   "source": [
    "# Regression\n",
    "\n",
    "# business problem \n",
    "\n",
    "- **Given the details of residential properties (size, type, location, and proximity to key landmarks), we want to build a model to accurately predict the asking rent price. This will help property agencies, landlords, and tenants understand rental pricing trends and make informed decisions.**"
   ]
  },
  {
   "cell_type": "code",
   "execution_count": 1,
   "id": "0930101a-1acd-4931-b129-a14b3d03df59",
   "metadata": {},
   "outputs": [],
   "source": [
    "import pandas as pd \n",
    "import numpy as np\n",
    "\n",
    "import matplotlib.pyplot as plt\n",
    "import seaborn as sns\n",
    "\n",
    "import warnings\n",
    "warnings.simplefilter('ignore')"
   ]
  },
  {
   "cell_type": "code",
   "execution_count": 2,
   "id": "ac45717d-df45-4532-bdd4-d498edd7bf26",
   "metadata": {},
   "outputs": [],
   "source": [
    "# Correct way with double backslashes or raw string\n",
    "df = pd.read_csv(r\"C:\\Users\\SHRI\\OneDrive\\Desktop\\DataScience_DataFiles\\data_download\\June_8_data_metro_closest_stations.csv\")\n"
   ]
  },
  {
   "cell_type": "code",
   "execution_count": 3,
   "id": "8058b110-6c99-4cca-935e-fd5f21773fb9",
   "metadata": {},
   "outputs": [
    {
     "data": {
      "text/html": [
       "<div>\n",
       "<style scoped>\n",
       "    .dataframe tbody tr th:only-of-type {\n",
       "        vertical-align: middle;\n",
       "    }\n",
       "\n",
       "    .dataframe tbody tr th {\n",
       "        vertical-align: top;\n",
       "    }\n",
       "\n",
       "    .dataframe thead th {\n",
       "        text-align: right;\n",
       "    }\n",
       "</style>\n",
       "<table border=\"1\" class=\"dataframe\">\n",
       "  <thead>\n",
       "    <tr style=\"text-align: right;\">\n",
       "      <th></th>\n",
       "      <th>Unnamed: 0</th>\n",
       "      <th>size_sq_ft</th>\n",
       "      <th>propertyType</th>\n",
       "      <th>bedrooms</th>\n",
       "      <th>latitude</th>\n",
       "      <th>longitude</th>\n",
       "      <th>localityName</th>\n",
       "      <th>suburbName</th>\n",
       "      <th>cityName</th>\n",
       "      <th>price</th>\n",
       "      <th>companyName</th>\n",
       "      <th>closest_mtero_station_km</th>\n",
       "      <th>AP_dist_km</th>\n",
       "      <th>Aiims_dist_km</th>\n",
       "      <th>NDRLW_dist_km</th>\n",
       "    </tr>\n",
       "  </thead>\n",
       "  <tbody>\n",
       "    <tr>\n",
       "      <th>0</th>\n",
       "      <td>0</td>\n",
       "      <td>400</td>\n",
       "      <td>Independent Floor</td>\n",
       "      <td>1</td>\n",
       "      <td>28.641010</td>\n",
       "      <td>77.284386</td>\n",
       "      <td>Swasthya Vihar</td>\n",
       "      <td>Delhi East</td>\n",
       "      <td>Delhi</td>\n",
       "      <td>9000</td>\n",
       "      <td>Dream Homez</td>\n",
       "      <td>0.577495</td>\n",
       "      <td>21.741188</td>\n",
       "      <td>11.119239</td>\n",
       "      <td>6.227231</td>\n",
       "    </tr>\n",
       "    <tr>\n",
       "      <th>1</th>\n",
       "      <td>1</td>\n",
       "      <td>1050</td>\n",
       "      <td>Apartment</td>\n",
       "      <td>2</td>\n",
       "      <td>28.594969</td>\n",
       "      <td>77.298668</td>\n",
       "      <td>mayur vihar phase 1</td>\n",
       "      <td>Delhi East</td>\n",
       "      <td>Delhi</td>\n",
       "      <td>20000</td>\n",
       "      <td>Rupak Properties Stock</td>\n",
       "      <td>0.417142</td>\n",
       "      <td>21.401856</td>\n",
       "      <td>9.419061</td>\n",
       "      <td>9.217502</td>\n",
       "    </tr>\n",
       "    <tr>\n",
       "      <th>2</th>\n",
       "      <td>2</td>\n",
       "      <td>2250</td>\n",
       "      <td>Independent Floor</td>\n",
       "      <td>2</td>\n",
       "      <td>28.641806</td>\n",
       "      <td>77.293922</td>\n",
       "      <td>Swasthya Vihar</td>\n",
       "      <td>Delhi East</td>\n",
       "      <td>Delhi</td>\n",
       "      <td>28000</td>\n",
       "      <td>Aashiyana Real Estate</td>\n",
       "      <td>0.125136</td>\n",
       "      <td>22.620365</td>\n",
       "      <td>11.829486</td>\n",
       "      <td>7.159184</td>\n",
       "    </tr>\n",
       "    <tr>\n",
       "      <th>3</th>\n",
       "      <td>3</td>\n",
       "      <td>1350</td>\n",
       "      <td>Independent Floor</td>\n",
       "      <td>2</td>\n",
       "      <td>28.644363</td>\n",
       "      <td>77.293228</td>\n",
       "      <td>Krishna Nagar</td>\n",
       "      <td>Delhi East</td>\n",
       "      <td>Delhi</td>\n",
       "      <td>28000</td>\n",
       "      <td>Shivam Real Estate</td>\n",
       "      <td>0.371709</td>\n",
       "      <td>22.681201</td>\n",
       "      <td>11.982708</td>\n",
       "      <td>7.097348</td>\n",
       "    </tr>\n",
       "    <tr>\n",
       "      <th>4</th>\n",
       "      <td>4</td>\n",
       "      <td>450</td>\n",
       "      <td>Apartment</td>\n",
       "      <td>2</td>\n",
       "      <td>28.594736</td>\n",
       "      <td>77.311150</td>\n",
       "      <td>New Ashok Nagar</td>\n",
       "      <td>Delhi East</td>\n",
       "      <td>Delhi</td>\n",
       "      <td>12500</td>\n",
       "      <td>Shree Properties</td>\n",
       "      <td>1.087760</td>\n",
       "      <td>22.592810</td>\n",
       "      <td>10.571573</td>\n",
       "      <td>10.263271</td>\n",
       "    </tr>\n",
       "    <tr>\n",
       "      <th>...</th>\n",
       "      <td>...</td>\n",
       "      <td>...</td>\n",
       "      <td>...</td>\n",
       "      <td>...</td>\n",
       "      <td>...</td>\n",
       "      <td>...</td>\n",
       "      <td>...</td>\n",
       "      <td>...</td>\n",
       "      <td>...</td>\n",
       "      <td>...</td>\n",
       "      <td>...</td>\n",
       "      <td>...</td>\n",
       "      <td>...</td>\n",
       "      <td>...</td>\n",
       "      <td>...</td>\n",
       "    </tr>\n",
       "    <tr>\n",
       "      <th>17885</th>\n",
       "      <td>17885</td>\n",
       "      <td>270</td>\n",
       "      <td>Independent Floor</td>\n",
       "      <td>1</td>\n",
       "      <td>28.640198</td>\n",
       "      <td>77.187279</td>\n",
       "      <td>Rajinder Nagar</td>\n",
       "      <td>Delhi West</td>\n",
       "      <td>Delhi</td>\n",
       "      <td>15000</td>\n",
       "      <td>K K LAVANIA</td>\n",
       "      <td>0.426038</td>\n",
       "      <td>13.787582</td>\n",
       "      <td>8.372242</td>\n",
       "      <td>3.271959</td>\n",
       "    </tr>\n",
       "    <tr>\n",
       "      <th>17886</th>\n",
       "      <td>17886</td>\n",
       "      <td>1000</td>\n",
       "      <td>Independent Floor</td>\n",
       "      <td>3</td>\n",
       "      <td>28.640209</td>\n",
       "      <td>77.187271</td>\n",
       "      <td>Rajinder Nagar</td>\n",
       "      <td>Delhi West</td>\n",
       "      <td>Delhi</td>\n",
       "      <td>38000</td>\n",
       "      <td>sanjeev</td>\n",
       "      <td>0.425040</td>\n",
       "      <td>13.787908</td>\n",
       "      <td>8.373653</td>\n",
       "      <td>3.272639</td>\n",
       "    </tr>\n",
       "    <tr>\n",
       "      <th>17887</th>\n",
       "      <td>17887</td>\n",
       "      <td>1400</td>\n",
       "      <td>Independent Floor</td>\n",
       "      <td>1</td>\n",
       "      <td>28.636087</td>\n",
       "      <td>77.177994</td>\n",
       "      <td>Rajinder Nagar</td>\n",
       "      <td>Delhi West</td>\n",
       "      <td>Delhi</td>\n",
       "      <td>47000</td>\n",
       "      <td>ANIL KUMAR BAREJA</td>\n",
       "      <td>0.682508</td>\n",
       "      <td>12.817571</td>\n",
       "      <td>8.207820</td>\n",
       "      <td>4.221707</td>\n",
       "    </tr>\n",
       "    <tr>\n",
       "      <th>17888</th>\n",
       "      <td>17888</td>\n",
       "      <td>900</td>\n",
       "      <td>Independent Floor</td>\n",
       "      <td>1</td>\n",
       "      <td>28.640995</td>\n",
       "      <td>77.179512</td>\n",
       "      <td>Rajinder Nagar</td>\n",
       "      <td>Delhi West</td>\n",
       "      <td>Delhi</td>\n",
       "      <td>8000</td>\n",
       "      <td>Manjit</td>\n",
       "      <td>0.184343</td>\n",
       "      <td>13.308030</td>\n",
       "      <td>8.669832</td>\n",
       "      <td>4.027845</td>\n",
       "    </tr>\n",
       "    <tr>\n",
       "      <th>17889</th>\n",
       "      <td>17889</td>\n",
       "      <td>1000</td>\n",
       "      <td>Independent Floor</td>\n",
       "      <td>3</td>\n",
       "      <td>28.642803</td>\n",
       "      <td>77.188148</td>\n",
       "      <td>Rajinder Nagar</td>\n",
       "      <td>Delhi West</td>\n",
       "      <td>Delhi</td>\n",
       "      <td>38000</td>\n",
       "      <td>sanjeev</td>\n",
       "      <td>0.125044</td>\n",
       "      <td>14.048234</td>\n",
       "      <td>8.633506</td>\n",
       "      <td>3.184990</td>\n",
       "    </tr>\n",
       "  </tbody>\n",
       "</table>\n",
       "<p>17890 rows × 15 columns</p>\n",
       "</div>"
      ],
      "text/plain": [
       "       Unnamed: 0  size_sq_ft       propertyType  bedrooms   latitude  \\\n",
       "0               0         400  Independent Floor         1  28.641010   \n",
       "1               1        1050          Apartment         2  28.594969   \n",
       "2               2        2250  Independent Floor         2  28.641806   \n",
       "3               3        1350  Independent Floor         2  28.644363   \n",
       "4               4         450          Apartment         2  28.594736   \n",
       "...           ...         ...                ...       ...        ...   \n",
       "17885       17885         270  Independent Floor         1  28.640198   \n",
       "17886       17886        1000  Independent Floor         3  28.640209   \n",
       "17887       17887        1400  Independent Floor         1  28.636087   \n",
       "17888       17888         900  Independent Floor         1  28.640995   \n",
       "17889       17889        1000  Independent Floor         3  28.642803   \n",
       "\n",
       "       longitude         localityName  suburbName cityName  price  \\\n",
       "0      77.284386       Swasthya Vihar  Delhi East    Delhi   9000   \n",
       "1      77.298668  mayur vihar phase 1  Delhi East    Delhi  20000   \n",
       "2      77.293922       Swasthya Vihar  Delhi East    Delhi  28000   \n",
       "3      77.293228        Krishna Nagar  Delhi East    Delhi  28000   \n",
       "4      77.311150      New Ashok Nagar  Delhi East    Delhi  12500   \n",
       "...          ...                  ...         ...      ...    ...   \n",
       "17885  77.187279       Rajinder Nagar  Delhi West    Delhi  15000   \n",
       "17886  77.187271       Rajinder Nagar  Delhi West    Delhi  38000   \n",
       "17887  77.177994       Rajinder Nagar  Delhi West    Delhi  47000   \n",
       "17888  77.179512       Rajinder Nagar  Delhi West    Delhi   8000   \n",
       "17889  77.188148       Rajinder Nagar  Delhi West    Delhi  38000   \n",
       "\n",
       "                  companyName  closest_mtero_station_km  AP_dist_km  \\\n",
       "0                 Dream Homez                  0.577495   21.741188   \n",
       "1      Rupak Properties Stock                  0.417142   21.401856   \n",
       "2       Aashiyana Real Estate                  0.125136   22.620365   \n",
       "3          Shivam Real Estate                  0.371709   22.681201   \n",
       "4            Shree Properties                  1.087760   22.592810   \n",
       "...                       ...                       ...         ...   \n",
       "17885             K K LAVANIA                  0.426038   13.787582   \n",
       "17886                 sanjeev                  0.425040   13.787908   \n",
       "17887       ANIL KUMAR BAREJA                  0.682508   12.817571   \n",
       "17888                  Manjit                  0.184343   13.308030   \n",
       "17889                 sanjeev                  0.125044   14.048234   \n",
       "\n",
       "       Aiims_dist_km  NDRLW_dist_km  \n",
       "0          11.119239       6.227231  \n",
       "1           9.419061       9.217502  \n",
       "2          11.829486       7.159184  \n",
       "3          11.982708       7.097348  \n",
       "4          10.571573      10.263271  \n",
       "...              ...            ...  \n",
       "17885       8.372242       3.271959  \n",
       "17886       8.373653       3.272639  \n",
       "17887       8.207820       4.221707  \n",
       "17888       8.669832       4.027845  \n",
       "17889       8.633506       3.184990  \n",
       "\n",
       "[17890 rows x 15 columns]"
      ]
     },
     "execution_count": 3,
     "metadata": {},
     "output_type": "execute_result"
    }
   ],
   "source": [
    "df"
   ]
  },
  {
   "cell_type": "code",
   "execution_count": 4,
   "id": "d3a7b1c3-786a-4811-a9cc-e25abd01e8e7",
   "metadata": {},
   "outputs": [
    {
     "name": "stdout",
     "output_type": "stream",
     "text": [
      "<class 'pandas.core.frame.DataFrame'>\n",
      "RangeIndex: 17890 entries, 0 to 17889\n",
      "Data columns (total 15 columns):\n",
      " #   Column                    Non-Null Count  Dtype  \n",
      "---  ------                    --------------  -----  \n",
      " 0   Unnamed: 0                17890 non-null  int64  \n",
      " 1   size_sq_ft                17890 non-null  int64  \n",
      " 2   propertyType              17890 non-null  object \n",
      " 3   bedrooms                  17890 non-null  int64  \n",
      " 4   latitude                  17890 non-null  float64\n",
      " 5   longitude                 17890 non-null  float64\n",
      " 6   localityName              17890 non-null  object \n",
      " 7   suburbName                17890 non-null  object \n",
      " 8   cityName                  17890 non-null  object \n",
      " 9   price                     17890 non-null  int64  \n",
      " 10  companyName               17890 non-null  object \n",
      " 11  closest_mtero_station_km  17890 non-null  float64\n",
      " 12  AP_dist_km                17890 non-null  float64\n",
      " 13  Aiims_dist_km             17890 non-null  float64\n",
      " 14  NDRLW_dist_km             17890 non-null  float64\n",
      "dtypes: float64(6), int64(4), object(5)\n",
      "memory usage: 2.0+ MB\n"
     ]
    }
   ],
   "source": [
    "df.info()"
   ]
  },
  {
   "cell_type": "markdown",
   "id": "5c89ce7b-14f2-437a-bbb7-ec24189acc4a",
   "metadata": {},
   "source": [
    "# Data Understanding\n",
    "\n",
    "- size_sq_ft → The size of the property in square feet (numeric).\n",
    "\n",
    "- propertyType → The type of property (e.g., apartment, villa, house).\n",
    "\n",
    "- bedrooms → The number of bedrooms in the property (numeric).\n",
    "\n",
    "- latitude → The geographic latitude of the property (float).\n",
    "\n",
    "- longitude → The geographic longitude of the property (float).\n",
    "\n",
    "- localityName → The name of the local area or neighborhood.\n",
    "\n",
    "- suburbName → The name of the suburb where the property is located.\n",
    "\n",
    "- cityName → The city where the property is located.\n",
    "\n",
    "- price → The target variable: the asking rent price of the property (numeric).\n",
    "\n",
    "- companyName → The real estate company or agency listing the property.\n",
    "\n",
    "- closest_metro_station_km → Distance to the nearest metro station in kilometers.\n",
    "\n",
    "- AP_dist_km → Distance to AP (key landmark) in kilometers.\n",
    "\n",
    "- Aiims_dist_km → Distance to AIIMS hospital in kilometers.\n",
    "\n",
    "- NDRLW_dist_km → It shows how far the property is from New Delhi Railway Station in kilometers\n",
    "\n",
    "\n"
   ]
  },
  {
   "cell_type": "code",
   "execution_count": 5,
   "id": "d9e58224-4f27-471f-a866-2e2bd021278d",
   "metadata": {},
   "outputs": [
    {
     "data": {
      "text/plain": [
       "(17890, 15)"
      ]
     },
     "execution_count": 5,
     "metadata": {},
     "output_type": "execute_result"
    }
   ],
   "source": [
    "df.shape"
   ]
  },
  {
   "cell_type": "markdown",
   "id": "c9a3b76e-25c2-4398-bbb3-f1a8686db80d",
   "metadata": {},
   "source": [
    "# Data Exploration"
   ]
  },
  {
   "cell_type": "code",
   "execution_count": 6,
   "id": "2edc4f47-fda6-4748-ac77-b743addd2b5a",
   "metadata": {},
   "outputs": [
    {
     "data": {
      "text/plain": [
       "['Unnamed: 0',\n",
       " 'size_sq_ft',\n",
       " 'propertyType',\n",
       " 'bedrooms',\n",
       " 'latitude',\n",
       " 'longitude',\n",
       " 'localityName',\n",
       " 'suburbName',\n",
       " 'cityName',\n",
       " 'price',\n",
       " 'companyName',\n",
       " 'closest_mtero_station_km',\n",
       " 'AP_dist_km',\n",
       " 'Aiims_dist_km',\n",
       " 'NDRLW_dist_km']"
      ]
     },
     "execution_count": 6,
     "metadata": {},
     "output_type": "execute_result"
    }
   ],
   "source": [
    "df.columns.tolist()"
   ]
  },
  {
   "cell_type": "markdown",
   "id": "e953ff55-1c54-43a1-9feb-ce2801957a2e",
   "metadata": {},
   "source": [
    "- all column names in correct syntax"
   ]
  },
  {
   "cell_type": "code",
   "execution_count": 7,
   "id": "41117793-573e-4816-ad8f-4e7ec74d2316",
   "metadata": {},
   "outputs": [],
   "source": [
    "# 'Unnamed: 0' its automatic generated column  first delete this column\n",
    "\n",
    "df = df.drop(columns = ['Unnamed: 0'])"
   ]
  },
  {
   "cell_type": "code",
   "execution_count": 8,
   "id": "bd7b77cf-2422-4a97-98d8-7477e108728f",
   "metadata": {},
   "outputs": [
    {
     "data": {
      "text/plain": [
       "(17890, 14)"
      ]
     },
     "execution_count": 8,
     "metadata": {},
     "output_type": "execute_result"
    }
   ],
   "source": [
    "df.shape"
   ]
  },
  {
   "cell_type": "code",
   "execution_count": 9,
   "id": "8b3826d0-391d-4381-80a4-534e722daad5",
   "metadata": {},
   "outputs": [
    {
     "name": "stdout",
     "output_type": "stream",
     "text": [
      "<class 'pandas.core.frame.DataFrame'>\n",
      "RangeIndex: 17890 entries, 0 to 17889\n",
      "Data columns (total 14 columns):\n",
      " #   Column                    Non-Null Count  Dtype  \n",
      "---  ------                    --------------  -----  \n",
      " 0   size_sq_ft                17890 non-null  int64  \n",
      " 1   propertyType              17890 non-null  object \n",
      " 2   bedrooms                  17890 non-null  int64  \n",
      " 3   latitude                  17890 non-null  float64\n",
      " 4   longitude                 17890 non-null  float64\n",
      " 5   localityName              17890 non-null  object \n",
      " 6   suburbName                17890 non-null  object \n",
      " 7   cityName                  17890 non-null  object \n",
      " 8   price                     17890 non-null  int64  \n",
      " 9   companyName               17890 non-null  object \n",
      " 10  closest_mtero_station_km  17890 non-null  float64\n",
      " 11  AP_dist_km                17890 non-null  float64\n",
      " 12  Aiims_dist_km             17890 non-null  float64\n",
      " 13  NDRLW_dist_km             17890 non-null  float64\n",
      "dtypes: float64(6), int64(3), object(5)\n",
      "memory usage: 1.9+ MB\n"
     ]
    }
   ],
   "source": [
    "df.info()"
   ]
  },
  {
   "cell_type": "markdown",
   "id": "478b9ea1-9493-430e-98db-dc6041e92208",
   "metadata": {},
   "source": [
    "-  no null values \n",
    "- crrect datatypes"
   ]
  },
  {
   "cell_type": "code",
   "execution_count": 10,
   "id": "ed64b186-d671-4af2-a9e3-1d09319fc482",
   "metadata": {},
   "outputs": [
    {
     "data": {
      "text/plain": [
       "700"
      ]
     },
     "execution_count": 10,
     "metadata": {},
     "output_type": "execute_result"
    }
   ],
   "source": [
    "df['size_sq_ft'].nunique()"
   ]
  },
  {
   "cell_type": "code",
   "execution_count": 11,
   "id": "da90e99c-80f1-4bf3-95e4-0232544e3c45",
   "metadata": {},
   "outputs": [
    {
     "data": {
      "text/plain": [
       "4"
      ]
     },
     "execution_count": 11,
     "metadata": {},
     "output_type": "execute_result"
    }
   ],
   "source": [
    "df['propertyType'].nunique()"
   ]
  },
  {
   "cell_type": "code",
   "execution_count": 12,
   "id": "9c36bd35-ff4c-4e27-9fa8-703ed2d7b0d5",
   "metadata": {},
   "outputs": [
    {
     "data": {
      "text/plain": [
       "propertyType\n",
       "Independent Floor    11218\n",
       "Apartment             5725\n",
       "Independent House      896\n",
       "Villa                   51\n",
       "Name: count, dtype: int64"
      ]
     },
     "execution_count": 12,
     "metadata": {},
     "output_type": "execute_result"
    }
   ],
   "source": [
    "df['propertyType'].value_counts()\n"
   ]
  },
  {
   "cell_type": "code",
   "execution_count": 13,
   "id": "ac23af2a-422c-4344-b69e-1da8cc315dcd",
   "metadata": {},
   "outputs": [
    {
     "data": {
      "text/plain": [
       "12"
      ]
     },
     "execution_count": 13,
     "metadata": {},
     "output_type": "execute_result"
    }
   ],
   "source": [
    "df['bedrooms'].nunique()\n"
   ]
  },
  {
   "cell_type": "code",
   "execution_count": 14,
   "id": "8ed0bd23-d4d3-4c41-b883-473a0444038f",
   "metadata": {},
   "outputs": [
    {
     "data": {
      "text/plain": [
       "array([ 1,  2,  3,  4,  5,  6,  7, 10, 15, 12,  8,  9], dtype=int64)"
      ]
     },
     "execution_count": 14,
     "metadata": {},
     "output_type": "execute_result"
    }
   ],
   "source": [
    "df['bedrooms'].unique()\n"
   ]
  },
  {
   "cell_type": "code",
   "execution_count": 15,
   "id": "21833c2d-58cd-4507-87c0-280b9113b102",
   "metadata": {},
   "outputs": [
    {
     "data": {
      "text/plain": [
       "8767"
      ]
     },
     "execution_count": 15,
     "metadata": {},
     "output_type": "execute_result"
    }
   ],
   "source": [
    "df['latitude'].nunique()\n"
   ]
  },
  {
   "cell_type": "code",
   "execution_count": 16,
   "id": "be722123-7870-4779-8c9a-873c782cd7cf",
   "metadata": {},
   "outputs": [
    {
     "data": {
      "text/plain": [
       "7651"
      ]
     },
     "execution_count": 16,
     "metadata": {},
     "output_type": "execute_result"
    }
   ],
   "source": [
    "df['longitude'].nunique()\n"
   ]
  },
  {
   "cell_type": "code",
   "execution_count": 17,
   "id": "dc4d2ccc-0722-47ae-be15-eb5babac421e",
   "metadata": {},
   "outputs": [
    {
     "data": {
      "text/plain": [
       "781"
      ]
     },
     "execution_count": 17,
     "metadata": {},
     "output_type": "execute_result"
    }
   ],
   "source": [
    "df['localityName'].nunique()\n"
   ]
  },
  {
   "cell_type": "code",
   "execution_count": 18,
   "id": "42a4cfbe-0d99-4a16-bde7-ba4579b5696d",
   "metadata": {},
   "outputs": [
    {
     "data": {
      "text/plain": [
       "12"
      ]
     },
     "execution_count": 18,
     "metadata": {},
     "output_type": "execute_result"
    }
   ],
   "source": [
    "df['suburbName'].nunique()\n"
   ]
  },
  {
   "cell_type": "code",
   "execution_count": 19,
   "id": "90e1c18b-3dd1-4dc7-812a-5cd4429133d8",
   "metadata": {},
   "outputs": [
    {
     "data": {
      "text/plain": [
       "suburbName\n",
       "Delhi South         3749\n",
       "Delhi Central       2732\n",
       "Other               2706\n",
       "Dwarka              2435\n",
       "West Delhi          2222\n",
       "Delhi East          1933\n",
       "North Delhi         1252\n",
       "Delhi West           314\n",
       "Rohini               274\n",
       "Delhi North          176\n",
       "South West Delhi      86\n",
       "North West Delhi      11\n",
       "Name: count, dtype: int64"
      ]
     },
     "execution_count": 19,
     "metadata": {},
     "output_type": "execute_result"
    }
   ],
   "source": [
    "df['suburbName'].value_counts()"
   ]
  },
  {
   "cell_type": "code",
   "execution_count": 20,
   "id": "ca82899c-a460-4417-a9c2-1103edc7dbfb",
   "metadata": {},
   "outputs": [
    {
     "data": {
      "text/plain": [
       "1"
      ]
     },
     "execution_count": 20,
     "metadata": {},
     "output_type": "execute_result"
    }
   ],
   "source": [
    "df['cityName'].nunique()\n"
   ]
  },
  {
   "cell_type": "markdown",
   "id": "547cd737-3d1a-4dfd-9f5d-1ccd678a0e50",
   "metadata": {},
   "source": [
    "**city column contain all unique values one city only we can remove**"
   ]
  },
  {
   "cell_type": "code",
   "execution_count": 21,
   "id": "94c91630-c15f-42d0-a57d-d76ec2dac878",
   "metadata": {},
   "outputs": [],
   "source": [
    "df = df.drop(columns = ['cityName'])"
   ]
  },
  {
   "cell_type": "code",
   "execution_count": 22,
   "id": "0d624fc0-a6df-4093-a950-6402ea24eb29",
   "metadata": {},
   "outputs": [
    {
     "data": {
      "text/plain": [
       "432"
      ]
     },
     "execution_count": 22,
     "metadata": {},
     "output_type": "execute_result"
    }
   ],
   "source": [
    "df['price'].nunique()\n"
   ]
  },
  {
   "cell_type": "markdown",
   "id": "93eefbf7-b4cf-4c4c-bc62-ebaeea8225f7",
   "metadata": {},
   "source": [
    "**Price can be in float so convert int to float**"
   ]
  },
  {
   "cell_type": "code",
   "execution_count": 23,
   "id": "05f4a001-d384-44f0-b3e6-7abfe3a5929e",
   "metadata": {},
   "outputs": [],
   "source": [
    "df['price'] = df['price'].astype(float)\n"
   ]
  },
  {
   "cell_type": "code",
   "execution_count": 24,
   "id": "7c901be3-821a-402e-9f76-69d21d6e6c26",
   "metadata": {},
   "outputs": [
    {
     "data": {
      "text/plain": [
       "1387"
      ]
     },
     "execution_count": 24,
     "metadata": {},
     "output_type": "execute_result"
    }
   ],
   "source": [
    "df['companyName'].nunique()\n"
   ]
  },
  {
   "cell_type": "code",
   "execution_count": 25,
   "id": "757f0955-c83c-41e8-8a35-f800b34c5df3",
   "metadata": {},
   "outputs": [
    {
     "data": {
      "text/plain": [
       "9765"
      ]
     },
     "execution_count": 25,
     "metadata": {},
     "output_type": "execute_result"
    }
   ],
   "source": [
    "df['closest_mtero_station_km'].nunique()\n"
   ]
  },
  {
   "cell_type": "code",
   "execution_count": 26,
   "id": "8e97ed31-6c23-492c-ad8f-87a55101e9fd",
   "metadata": {},
   "outputs": [
    {
     "data": {
      "text/plain": [
       "9765"
      ]
     },
     "execution_count": 26,
     "metadata": {},
     "output_type": "execute_result"
    }
   ],
   "source": [
    "df['AP_dist_km'].nunique()\n"
   ]
  },
  {
   "cell_type": "code",
   "execution_count": 27,
   "id": "19fcebb1-c408-420d-9440-ad9d75b2732e",
   "metadata": {},
   "outputs": [
    {
     "data": {
      "text/plain": [
       "9765"
      ]
     },
     "execution_count": 27,
     "metadata": {},
     "output_type": "execute_result"
    }
   ],
   "source": [
    "df['Aiims_dist_km'].nunique()\n"
   ]
  },
  {
   "cell_type": "code",
   "execution_count": 28,
   "id": "8125899a-7e4b-44dd-937d-cd90ac8ab8d1",
   "metadata": {},
   "outputs": [
    {
     "data": {
      "text/plain": [
       "9765"
      ]
     },
     "execution_count": 28,
     "metadata": {},
     "output_type": "execute_result"
    }
   ],
   "source": [
    "df['NDRLW_dist_km'].nunique()\n"
   ]
  },
  {
   "cell_type": "code",
   "execution_count": 29,
   "id": "cbd5a4f9-b54b-4b57-a83d-47f8fb9e6376",
   "metadata": {},
   "outputs": [
    {
     "data": {
      "text/plain": [
       "size_sq_ft                    int64\n",
       "propertyType                 object\n",
       "bedrooms                      int64\n",
       "latitude                    float64\n",
       "longitude                   float64\n",
       "localityName                 object\n",
       "suburbName                   object\n",
       "price                       float64\n",
       "companyName                  object\n",
       "closest_mtero_station_km    float64\n",
       "AP_dist_km                  float64\n",
       "Aiims_dist_km               float64\n",
       "NDRLW_dist_km               float64\n",
       "dtype: object"
      ]
     },
     "execution_count": 29,
     "metadata": {},
     "output_type": "execute_result"
    }
   ],
   "source": [
    "df.dtypes"
   ]
  },
  {
   "cell_type": "code",
   "execution_count": 30,
   "id": "498f4437-8e4a-4b57-a5dc-d801866ecb5d",
   "metadata": {},
   "outputs": [],
   "source": [
    "continous = ['size_sq_ft','latitude', 'longitude', 'price', 'closest_mtero_station_km', 'AP_dist_km', 'Aiims_dist_km', 'NDRLW_dist_km']\n",
    "\n",
    "discrete_categorical = ['propertyType', 'localityName', 'suburbName', 'companyName']\n",
    "\n",
    "discrete_count = ['bedrooms']"
   ]
  },
  {
   "cell_type": "code",
   "execution_count": 31,
   "id": "1b7732d0-d391-47ff-b1f0-ef33a6857730",
   "metadata": {},
   "outputs": [
    {
     "data": {
      "text/html": [
       "<div>\n",
       "<style scoped>\n",
       "    .dataframe tbody tr th:only-of-type {\n",
       "        vertical-align: middle;\n",
       "    }\n",
       "\n",
       "    .dataframe tbody tr th {\n",
       "        vertical-align: top;\n",
       "    }\n",
       "\n",
       "    .dataframe thead th {\n",
       "        text-align: right;\n",
       "    }\n",
       "</style>\n",
       "<table border=\"1\" class=\"dataframe\">\n",
       "  <thead>\n",
       "    <tr style=\"text-align: right;\">\n",
       "      <th></th>\n",
       "      <th>size_sq_ft</th>\n",
       "      <th>latitude</th>\n",
       "      <th>longitude</th>\n",
       "      <th>price</th>\n",
       "      <th>closest_mtero_station_km</th>\n",
       "      <th>AP_dist_km</th>\n",
       "      <th>Aiims_dist_km</th>\n",
       "      <th>NDRLW_dist_km</th>\n",
       "    </tr>\n",
       "  </thead>\n",
       "  <tbody>\n",
       "    <tr>\n",
       "      <th>count</th>\n",
       "      <td>17890.000000</td>\n",
       "      <td>17890.000000</td>\n",
       "      <td>17890.000000</td>\n",
       "      <td>1.789000e+04</td>\n",
       "      <td>17890.000000</td>\n",
       "      <td>17890.000000</td>\n",
       "      <td>17890.000000</td>\n",
       "      <td>17890.000000</td>\n",
       "    </tr>\n",
       "    <tr>\n",
       "      <th>mean</th>\n",
       "      <td>1176.342091</td>\n",
       "      <td>28.609382</td>\n",
       "      <td>77.168368</td>\n",
       "      <td>3.345196e+04</td>\n",
       "      <td>0.931495</td>\n",
       "      <td>13.727784</td>\n",
       "      <td>11.238134</td>\n",
       "      <td>11.421994</td>\n",
       "    </tr>\n",
       "    <tr>\n",
       "      <th>std</th>\n",
       "      <td>873.751044</td>\n",
       "      <td>0.099547</td>\n",
       "      <td>0.097611</td>\n",
       "      <td>8.802054e+04</td>\n",
       "      <td>8.287856</td>\n",
       "      <td>11.357063</td>\n",
       "      <td>11.167202</td>\n",
       "      <td>11.063323</td>\n",
       "    </tr>\n",
       "    <tr>\n",
       "      <th>min</th>\n",
       "      <td>100.000000</td>\n",
       "      <td>19.185120</td>\n",
       "      <td>73.213829</td>\n",
       "      <td>1.200000e+03</td>\n",
       "      <td>0.000692</td>\n",
       "      <td>1.784779</td>\n",
       "      <td>0.634508</td>\n",
       "      <td>0.722023</td>\n",
       "    </tr>\n",
       "    <tr>\n",
       "      <th>25%</th>\n",
       "      <td>620.000000</td>\n",
       "      <td>28.562540</td>\n",
       "      <td>77.103718</td>\n",
       "      <td>1.350000e+04</td>\n",
       "      <td>0.457782</td>\n",
       "      <td>11.018715</td>\n",
       "      <td>7.769267</td>\n",
       "      <td>7.986813</td>\n",
       "    </tr>\n",
       "    <tr>\n",
       "      <th>50%</th>\n",
       "      <td>900.000000</td>\n",
       "      <td>28.611803</td>\n",
       "      <td>77.168755</td>\n",
       "      <td>2.200000e+04</td>\n",
       "      <td>0.698560</td>\n",
       "      <td>13.184035</td>\n",
       "      <td>10.515524</td>\n",
       "      <td>11.015571</td>\n",
       "    </tr>\n",
       "    <tr>\n",
       "      <th>75%</th>\n",
       "      <td>1600.000000</td>\n",
       "      <td>28.651593</td>\n",
       "      <td>77.224998</td>\n",
       "      <td>3.500000e+04</td>\n",
       "      <td>1.087740</td>\n",
       "      <td>17.163502</td>\n",
       "      <td>15.514042</td>\n",
       "      <td>15.192483</td>\n",
       "    </tr>\n",
       "    <tr>\n",
       "      <th>max</th>\n",
       "      <td>16521.000000</td>\n",
       "      <td>28.872597</td>\n",
       "      <td>80.358467</td>\n",
       "      <td>5.885646e+06</td>\n",
       "      <td>1096.479453</td>\n",
       "      <td>1109.894053</td>\n",
       "      <td>1115.621439</td>\n",
       "      <td>1123.778457</td>\n",
       "    </tr>\n",
       "  </tbody>\n",
       "</table>\n",
       "</div>"
      ],
      "text/plain": [
       "         size_sq_ft      latitude     longitude         price  \\\n",
       "count  17890.000000  17890.000000  17890.000000  1.789000e+04   \n",
       "mean    1176.342091     28.609382     77.168368  3.345196e+04   \n",
       "std      873.751044      0.099547      0.097611  8.802054e+04   \n",
       "min      100.000000     19.185120     73.213829  1.200000e+03   \n",
       "25%      620.000000     28.562540     77.103718  1.350000e+04   \n",
       "50%      900.000000     28.611803     77.168755  2.200000e+04   \n",
       "75%     1600.000000     28.651593     77.224998  3.500000e+04   \n",
       "max    16521.000000     28.872597     80.358467  5.885646e+06   \n",
       "\n",
       "       closest_mtero_station_km    AP_dist_km  Aiims_dist_km  NDRLW_dist_km  \n",
       "count              17890.000000  17890.000000   17890.000000   17890.000000  \n",
       "mean                   0.931495     13.727784      11.238134      11.421994  \n",
       "std                    8.287856     11.357063      11.167202      11.063323  \n",
       "min                    0.000692      1.784779       0.634508       0.722023  \n",
       "25%                    0.457782     11.018715       7.769267       7.986813  \n",
       "50%                    0.698560     13.184035      10.515524      11.015571  \n",
       "75%                    1.087740     17.163502      15.514042      15.192483  \n",
       "max                 1096.479453   1109.894053    1115.621439    1123.778457  "
      ]
     },
     "execution_count": 31,
     "metadata": {},
     "output_type": "execute_result"
    }
   ],
   "source": [
    "df[continous].describe()"
   ]
  },
  {
   "cell_type": "code",
   "execution_count": 32,
   "id": "a0391ab9-20f6-425c-8e1e-5c7c3786fabd",
   "metadata": {},
   "outputs": [
    {
     "data": {
      "image/png": "[encoded data removed]",
      "text/plain": [
       "<Figure size 2500x2000 with 8 Axes>"
      ]
     },
     "metadata": {},
     "output_type": "display_data"
    }
   ],
   "source": [
    "plt.figure(figsize=(25, 20))\n",
    "\n",
    "j = 1\n",
    "for i in continous:\n",
    "    plt.subplot(3,3,j)\n",
    "    sns.histplot(df[i] , kde = True)\n",
    "    j = j+1\n",
    "plt.show()"
   ]
  },
  {
   "cell_type": "code",
   "execution_count": 33,
   "id": "0f4e6b28-17fd-4d3a-8dc3-a15678cad0d0",
   "metadata": {},
   "outputs": [
    {
     "data": {
      "image/png": "[encoded data removed]",
      "text/plain": [
       "<Figure size 2500x2000 with 8 Axes>"
      ]
     },
     "metadata": {},
     "output_type": "display_data"
    }
   ],
   "source": [
    "plt.figure(figsize=(25, 20))\n",
    "\n",
    "j = 1\n",
    "for i in continous:\n",
    "    plt.subplot(3,3,j)\n",
    "    sns.boxplot(df[i])\n",
    "    j = j+1\n",
    "plt.show()"
   ]
  },
  {
   "cell_type": "markdown",
   "id": "4fee21d0-261e-44cf-b767-f6b87879f143",
   "metadata": {},
   "source": [
    "**Outliers present in dataset**"
   ]
  },
  {
   "cell_type": "code",
   "execution_count": 34,
   "id": "83f10864-d0f2-40e2-ad48-bf3f89601e0b",
   "metadata": {},
   "outputs": [
    {
     "data": {
      "text/plain": [
       "size_sq_ft                    4.399058\n",
       "latitude                    -49.715294\n",
       "longitude                     3.985569\n",
       "price                        35.859672\n",
       "closest_mtero_station_km    129.250170\n",
       "AP_dist_km                   58.903837\n",
       "Aiims_dist_km                62.703079\n",
       "NDRLW_dist_km                65.980587\n",
       "dtype: float64"
      ]
     },
     "execution_count": 34,
     "metadata": {},
     "output_type": "execute_result"
    }
   ],
   "source": [
    "df[continous].skew()"
   ]
  },
  {
   "cell_type": "markdown",
   "id": "cef48e41-241e-4422-b3ad-772f8b731126",
   "metadata": {},
   "source": [
    "# Data Cleaning"
   ]
  },
  {
   "cell_type": "code",
   "execution_count": 35,
   "id": "ebad719b-26dc-4097-8031-c8ac18dbb08a",
   "metadata": {},
   "outputs": [
    {
     "data": {
      "text/html": [
       "<div>\n",
       "<style scoped>\n",
       "    .dataframe tbody tr th:only-of-type {\n",
       "        vertical-align: middle;\n",
       "    }\n",
       "\n",
       "    .dataframe tbody tr th {\n",
       "        vertical-align: top;\n",
       "    }\n",
       "\n",
       "    .dataframe thead th {\n",
       "        text-align: right;\n",
       "    }\n",
       "</style>\n",
       "<table border=\"1\" class=\"dataframe\">\n",
       "  <thead>\n",
       "    <tr style=\"text-align: right;\">\n",
       "      <th></th>\n",
       "      <th>size_sq_ft</th>\n",
       "      <th>propertyType</th>\n",
       "      <th>bedrooms</th>\n",
       "      <th>latitude</th>\n",
       "      <th>longitude</th>\n",
       "      <th>localityName</th>\n",
       "      <th>suburbName</th>\n",
       "      <th>price</th>\n",
       "      <th>companyName</th>\n",
       "      <th>closest_mtero_station_km</th>\n",
       "      <th>AP_dist_km</th>\n",
       "      <th>Aiims_dist_km</th>\n",
       "      <th>NDRLW_dist_km</th>\n",
       "    </tr>\n",
       "  </thead>\n",
       "  <tbody>\n",
       "    <tr>\n",
       "      <th>0</th>\n",
       "      <td>400</td>\n",
       "      <td>Independent Floor</td>\n",
       "      <td>1</td>\n",
       "      <td>28.641010</td>\n",
       "      <td>77.284386</td>\n",
       "      <td>Swasthya Vihar</td>\n",
       "      <td>Delhi East</td>\n",
       "      <td>9000.0</td>\n",
       "      <td>Dream Homez</td>\n",
       "      <td>0.577495</td>\n",
       "      <td>21.741188</td>\n",
       "      <td>11.119239</td>\n",
       "      <td>6.227231</td>\n",
       "    </tr>\n",
       "    <tr>\n",
       "      <th>1</th>\n",
       "      <td>1050</td>\n",
       "      <td>Apartment</td>\n",
       "      <td>2</td>\n",
       "      <td>28.594969</td>\n",
       "      <td>77.298668</td>\n",
       "      <td>mayur vihar phase 1</td>\n",
       "      <td>Delhi East</td>\n",
       "      <td>20000.0</td>\n",
       "      <td>Rupak Properties Stock</td>\n",
       "      <td>0.417142</td>\n",
       "      <td>21.401856</td>\n",
       "      <td>9.419061</td>\n",
       "      <td>9.217502</td>\n",
       "    </tr>\n",
       "    <tr>\n",
       "      <th>2</th>\n",
       "      <td>2250</td>\n",
       "      <td>Independent Floor</td>\n",
       "      <td>2</td>\n",
       "      <td>28.641806</td>\n",
       "      <td>77.293922</td>\n",
       "      <td>Swasthya Vihar</td>\n",
       "      <td>Delhi East</td>\n",
       "      <td>28000.0</td>\n",
       "      <td>Aashiyana Real Estate</td>\n",
       "      <td>0.125136</td>\n",
       "      <td>22.620365</td>\n",
       "      <td>11.829486</td>\n",
       "      <td>7.159184</td>\n",
       "    </tr>\n",
       "    <tr>\n",
       "      <th>3</th>\n",
       "      <td>1350</td>\n",
       "      <td>Independent Floor</td>\n",
       "      <td>2</td>\n",
       "      <td>28.644363</td>\n",
       "      <td>77.293228</td>\n",
       "      <td>Krishna Nagar</td>\n",
       "      <td>Delhi East</td>\n",
       "      <td>28000.0</td>\n",
       "      <td>Shivam Real Estate</td>\n",
       "      <td>0.371709</td>\n",
       "      <td>22.681201</td>\n",
       "      <td>11.982708</td>\n",
       "      <td>7.097348</td>\n",
       "    </tr>\n",
       "    <tr>\n",
       "      <th>4</th>\n",
       "      <td>450</td>\n",
       "      <td>Apartment</td>\n",
       "      <td>2</td>\n",
       "      <td>28.594736</td>\n",
       "      <td>77.311150</td>\n",
       "      <td>New Ashok Nagar</td>\n",
       "      <td>Delhi East</td>\n",
       "      <td>12500.0</td>\n",
       "      <td>Shree Properties</td>\n",
       "      <td>1.087760</td>\n",
       "      <td>22.592810</td>\n",
       "      <td>10.571573</td>\n",
       "      <td>10.263271</td>\n",
       "    </tr>\n",
       "  </tbody>\n",
       "</table>\n",
       "</div>"
      ],
      "text/plain": [
       "   size_sq_ft       propertyType  bedrooms   latitude  longitude  \\\n",
       "0         400  Independent Floor         1  28.641010  77.284386   \n",
       "1        1050          Apartment         2  28.594969  77.298668   \n",
       "2        2250  Independent Floor         2  28.641806  77.293922   \n",
       "3        1350  Independent Floor         2  28.644363  77.293228   \n",
       "4         450          Apartment         2  28.594736  77.311150   \n",
       "\n",
       "          localityName  suburbName    price             companyName  \\\n",
       "0       Swasthya Vihar  Delhi East   9000.0             Dream Homez   \n",
       "1  mayur vihar phase 1  Delhi East  20000.0  Rupak Properties Stock   \n",
       "2       Swasthya Vihar  Delhi East  28000.0   Aashiyana Real Estate   \n",
       "3        Krishna Nagar  Delhi East  28000.0      Shivam Real Estate   \n",
       "4      New Ashok Nagar  Delhi East  12500.0        Shree Properties   \n",
       "\n",
       "   closest_mtero_station_km  AP_dist_km  Aiims_dist_km  NDRLW_dist_km  \n",
       "0                  0.577495   21.741188      11.119239       6.227231  \n",
       "1                  0.417142   21.401856       9.419061       9.217502  \n",
       "2                  0.125136   22.620365      11.829486       7.159184  \n",
       "3                  0.371709   22.681201      11.982708       7.097348  \n",
       "4                  1.087760   22.592810      10.571573      10.263271  "
      ]
     },
     "execution_count": 35,
     "metadata": {},
     "output_type": "execute_result"
    }
   ],
   "source": [
    "df.head()"
   ]
  },
  {
   "cell_type": "markdown",
   "id": "e117e565-2644-444a-a86c-eaba7471a57c",
   "metadata": {},
   "source": [
    "**no wrong data**\n"
   ]
  },
  {
   "cell_type": "markdown",
   "id": "e58d9a0d-cd69-41d3-9033-bfa255bf1f86",
   "metadata": {},
   "source": [
    "**No wrong data format**"
   ]
  },
  {
   "cell_type": "code",
   "execution_count": null,
   "id": "b1de4f3c-28f1-482b-8d50-2dbfac957002",
   "metadata": {},
   "outputs": [],
   "source": []
  },
  {
   "cell_type": "code",
   "execution_count": 36,
   "id": "ea0469b8-3195-4bb5-b464-d8d5a33105e2",
   "metadata": {},
   "outputs": [
    {
     "data": {
      "text/plain": [
       "0"
      ]
     },
     "execution_count": 36,
     "metadata": {},
     "output_type": "execute_result"
    }
   ],
   "source": [
    "df.duplicated().sum()"
   ]
  },
  {
   "cell_type": "markdown",
   "id": "a048f000-a7da-49c1-a864-fddce81265ed",
   "metadata": {},
   "source": [
    "**no duplicated records**"
   ]
  },
  {
   "cell_type": "code",
   "execution_count": 37,
   "id": "db040f9a-abee-44c1-bb6a-d68460eaf189",
   "metadata": {},
   "outputs": [
    {
     "data": {
      "text/plain": [
       "size_sq_ft                  0\n",
       "propertyType                0\n",
       "bedrooms                    0\n",
       "latitude                    0\n",
       "longitude                   0\n",
       "localityName                0\n",
       "suburbName                  0\n",
       "price                       0\n",
       "companyName                 0\n",
       "closest_mtero_station_km    0\n",
       "AP_dist_km                  0\n",
       "Aiims_dist_km               0\n",
       "NDRLW_dist_km               0\n",
       "dtype: int64"
      ]
     },
     "execution_count": 37,
     "metadata": {},
     "output_type": "execute_result"
    }
   ],
   "source": [
    "df.isnull().sum()"
   ]
  },
  {
   "cell_type": "markdown",
   "id": "45f21ac9-2f97-4c56-909c-9c2fd04a5c2f",
   "metadata": {},
   "source": [
    "**No null values**"
   ]
  },
  {
   "cell_type": "markdown",
   "id": "838db6a1-c32a-4726-a106-366e20bfcfa8",
   "metadata": {},
   "source": [
    "# Dimension reduction"
   ]
  },
  {
   "cell_type": "markdown",
   "id": "c7a28fdc-1815-4dfd-b3cb-656e4c766864",
   "metadata": {},
   "source": [
    "- latitude → Not needed, location already covered.\n",
    "\n",
    "- longitude → Same reason as above.\n",
    "\n",
    "- companyName → Doesn’t affect rent.\n",
    "\n",
    "- localityName → Too many unique values, suburbName is enough.\n",
    "\n",
    "- closest_mtero_station_km → Not important, other distances are enough.\n"
   ]
  },
  {
   "cell_type": "code",
   "execution_count": 38,
   "id": "529b3ec0-8c04-4976-bf6b-edf7926c59b3",
   "metadata": {},
   "outputs": [],
   "source": [
    "df.drop(['latitude', 'longitude', 'companyName', 'localityName', 'closest_mtero_station_km'], axis=1, inplace=True)\n"
   ]
  },
  {
   "cell_type": "code",
   "execution_count": 39,
   "id": "e559e04d-22ef-4319-ab99-79679e566de0",
   "metadata": {},
   "outputs": [
    {
     "data": {
      "text/plain": [
       "(17890, 8)"
      ]
     },
     "execution_count": 39,
     "metadata": {},
     "output_type": "execute_result"
    }
   ],
   "source": [
    "df.shape"
   ]
  },
  {
   "cell_type": "code",
   "execution_count": 40,
   "id": "9b908f3d-3530-485c-8ac3-92a4d386cc71",
   "metadata": {},
   "outputs": [
    {
     "data": {
      "text/html": [
       "<div>\n",
       "<style scoped>\n",
       "    .dataframe tbody tr th:only-of-type {\n",
       "        vertical-align: middle;\n",
       "    }\n",
       "\n",
       "    .dataframe tbody tr th {\n",
       "        vertical-align: top;\n",
       "    }\n",
       "\n",
       "    .dataframe thead th {\n",
       "        text-align: right;\n",
       "    }\n",
       "</style>\n",
       "<table border=\"1\" class=\"dataframe\">\n",
       "  <thead>\n",
       "    <tr style=\"text-align: right;\">\n",
       "      <th></th>\n",
       "      <th>size_sq_ft</th>\n",
       "      <th>propertyType</th>\n",
       "      <th>bedrooms</th>\n",
       "      <th>suburbName</th>\n",
       "      <th>price</th>\n",
       "      <th>AP_dist_km</th>\n",
       "      <th>Aiims_dist_km</th>\n",
       "      <th>NDRLW_dist_km</th>\n",
       "    </tr>\n",
       "  </thead>\n",
       "  <tbody>\n",
       "    <tr>\n",
       "      <th>0</th>\n",
       "      <td>400</td>\n",
       "      <td>Independent Floor</td>\n",
       "      <td>1</td>\n",
       "      <td>Delhi East</td>\n",
       "      <td>9000.0</td>\n",
       "      <td>21.741188</td>\n",
       "      <td>11.119239</td>\n",
       "      <td>6.227231</td>\n",
       "    </tr>\n",
       "    <tr>\n",
       "      <th>1</th>\n",
       "      <td>1050</td>\n",
       "      <td>Apartment</td>\n",
       "      <td>2</td>\n",
       "      <td>Delhi East</td>\n",
       "      <td>20000.0</td>\n",
       "      <td>21.401856</td>\n",
       "      <td>9.419061</td>\n",
       "      <td>9.217502</td>\n",
       "    </tr>\n",
       "    <tr>\n",
       "      <th>2</th>\n",
       "      <td>2250</td>\n",
       "      <td>Independent Floor</td>\n",
       "      <td>2</td>\n",
       "      <td>Delhi East</td>\n",
       "      <td>28000.0</td>\n",
       "      <td>22.620365</td>\n",
       "      <td>11.829486</td>\n",
       "      <td>7.159184</td>\n",
       "    </tr>\n",
       "    <tr>\n",
       "      <th>3</th>\n",
       "      <td>1350</td>\n",
       "      <td>Independent Floor</td>\n",
       "      <td>2</td>\n",
       "      <td>Delhi East</td>\n",
       "      <td>28000.0</td>\n",
       "      <td>22.681201</td>\n",
       "      <td>11.982708</td>\n",
       "      <td>7.097348</td>\n",
       "    </tr>\n",
       "    <tr>\n",
       "      <th>4</th>\n",
       "      <td>450</td>\n",
       "      <td>Apartment</td>\n",
       "      <td>2</td>\n",
       "      <td>Delhi East</td>\n",
       "      <td>12500.0</td>\n",
       "      <td>22.592810</td>\n",
       "      <td>10.571573</td>\n",
       "      <td>10.263271</td>\n",
       "    </tr>\n",
       "  </tbody>\n",
       "</table>\n",
       "</div>"
      ],
      "text/plain": [
       "   size_sq_ft       propertyType  bedrooms  suburbName    price  AP_dist_km  \\\n",
       "0         400  Independent Floor         1  Delhi East   9000.0   21.741188   \n",
       "1        1050          Apartment         2  Delhi East  20000.0   21.401856   \n",
       "2        2250  Independent Floor         2  Delhi East  28000.0   22.620365   \n",
       "3        1350  Independent Floor         2  Delhi East  28000.0   22.681201   \n",
       "4         450          Apartment         2  Delhi East  12500.0   22.592810   \n",
       "\n",
       "   Aiims_dist_km  NDRLW_dist_km  \n",
       "0      11.119239       6.227231  \n",
       "1       9.419061       9.217502  \n",
       "2      11.829486       7.159184  \n",
       "3      11.982708       7.097348  \n",
       "4      10.571573      10.263271  "
      ]
     },
     "execution_count": 40,
     "metadata": {},
     "output_type": "execute_result"
    }
   ],
   "source": [
    "df.head()"
   ]
  },
  {
   "cell_type": "code",
   "execution_count": 41,
   "id": "7714f45e-bbdd-4c5b-b730-ce8fdf5a3bfa",
   "metadata": {},
   "outputs": [
    {
     "data": {
      "text/plain": [
       "size_sq_ft         int64\n",
       "propertyType      object\n",
       "bedrooms           int64\n",
       "suburbName        object\n",
       "price            float64\n",
       "AP_dist_km       float64\n",
       "Aiims_dist_km    float64\n",
       "NDRLW_dist_km    float64\n",
       "dtype: object"
      ]
     },
     "execution_count": 41,
     "metadata": {},
     "output_type": "execute_result"
    }
   ],
   "source": [
    "df.dtypes"
   ]
  },
  {
   "cell_type": "code",
   "execution_count": 42,
   "id": "9c87a3bc-80c4-415d-a830-883f8290658a",
   "metadata": {},
   "outputs": [
    {
     "data": {
      "text/plain": [
       "Index(['size_sq_ft', 'propertyType', 'bedrooms', 'suburbName', 'price',\n",
       "       'AP_dist_km', 'Aiims_dist_km', 'NDRLW_dist_km'],\n",
       "      dtype='object')"
      ]
     },
     "execution_count": 42,
     "metadata": {},
     "output_type": "execute_result"
    }
   ],
   "source": [
    "df.columns"
   ]
  },
  {
   "cell_type": "code",
   "execution_count": 43,
   "id": "a18c1fbc-69d6-488b-8cb8-6bafa2c356a7",
   "metadata": {},
   "outputs": [],
   "source": [
    "continous = ['size_sq_ft', 'price', 'AP_dist_km', 'Aiims_dist_km', 'NDRLW_dist_km']\n",
    "count = ['bedrooms']\n",
    "categorical = ['propertyType', 'suburbName']"
   ]
  },
  {
   "cell_type": "code",
   "execution_count": 44,
   "id": "139b05d3-2691-42d3-b2e0-52b1c86d494a",
   "metadata": {},
   "outputs": [
    {
     "data": {
      "text/html": [
       "<div>\n",
       "<style scoped>\n",
       "    .dataframe tbody tr th:only-of-type {\n",
       "        vertical-align: middle;\n",
       "    }\n",
       "\n",
       "    .dataframe tbody tr th {\n",
       "        vertical-align: top;\n",
       "    }\n",
       "\n",
       "    .dataframe thead th {\n",
       "        text-align: right;\n",
       "    }\n",
       "</style>\n",
       "<table border=\"1\" class=\"dataframe\">\n",
       "  <thead>\n",
       "    <tr style=\"text-align: right;\">\n",
       "      <th></th>\n",
       "      <th>size_sq_ft</th>\n",
       "      <th>price</th>\n",
       "      <th>AP_dist_km</th>\n",
       "      <th>Aiims_dist_km</th>\n",
       "      <th>NDRLW_dist_km</th>\n",
       "    </tr>\n",
       "  </thead>\n",
       "  <tbody>\n",
       "    <tr>\n",
       "      <th>count</th>\n",
       "      <td>17890.000000</td>\n",
       "      <td>1.789000e+04</td>\n",
       "      <td>17890.000000</td>\n",
       "      <td>17890.000000</td>\n",
       "      <td>17890.000000</td>\n",
       "    </tr>\n",
       "    <tr>\n",
       "      <th>mean</th>\n",
       "      <td>1176.342091</td>\n",
       "      <td>3.345196e+04</td>\n",
       "      <td>13.727784</td>\n",
       "      <td>11.238134</td>\n",
       "      <td>11.421994</td>\n",
       "    </tr>\n",
       "    <tr>\n",
       "      <th>std</th>\n",
       "      <td>873.751044</td>\n",
       "      <td>8.802054e+04</td>\n",
       "      <td>11.357063</td>\n",
       "      <td>11.167202</td>\n",
       "      <td>11.063323</td>\n",
       "    </tr>\n",
       "    <tr>\n",
       "      <th>min</th>\n",
       "      <td>100.000000</td>\n",
       "      <td>1.200000e+03</td>\n",
       "      <td>1.784779</td>\n",
       "      <td>0.634508</td>\n",
       "      <td>0.722023</td>\n",
       "    </tr>\n",
       "    <tr>\n",
       "      <th>25%</th>\n",
       "      <td>620.000000</td>\n",
       "      <td>1.350000e+04</td>\n",
       "      <td>11.018715</td>\n",
       "      <td>7.769267</td>\n",
       "      <td>7.986813</td>\n",
       "    </tr>\n",
       "    <tr>\n",
       "      <th>50%</th>\n",
       "      <td>900.000000</td>\n",
       "      <td>2.200000e+04</td>\n",
       "      <td>13.184035</td>\n",
       "      <td>10.515524</td>\n",
       "      <td>11.015571</td>\n",
       "    </tr>\n",
       "    <tr>\n",
       "      <th>75%</th>\n",
       "      <td>1600.000000</td>\n",
       "      <td>3.500000e+04</td>\n",
       "      <td>17.163502</td>\n",
       "      <td>15.514042</td>\n",
       "      <td>15.192483</td>\n",
       "    </tr>\n",
       "    <tr>\n",
       "      <th>max</th>\n",
       "      <td>16521.000000</td>\n",
       "      <td>5.885646e+06</td>\n",
       "      <td>1109.894053</td>\n",
       "      <td>1115.621439</td>\n",
       "      <td>1123.778457</td>\n",
       "    </tr>\n",
       "  </tbody>\n",
       "</table>\n",
       "</div>"
      ],
      "text/plain": [
       "         size_sq_ft         price    AP_dist_km  Aiims_dist_km  NDRLW_dist_km\n",
       "count  17890.000000  1.789000e+04  17890.000000   17890.000000   17890.000000\n",
       "mean    1176.342091  3.345196e+04     13.727784      11.238134      11.421994\n",
       "std      873.751044  8.802054e+04     11.357063      11.167202      11.063323\n",
       "min      100.000000  1.200000e+03      1.784779       0.634508       0.722023\n",
       "25%      620.000000  1.350000e+04     11.018715       7.769267       7.986813\n",
       "50%      900.000000  2.200000e+04     13.184035      10.515524      11.015571\n",
       "75%     1600.000000  3.500000e+04     17.163502      15.514042      15.192483\n",
       "max    16521.000000  5.885646e+06   1109.894053    1115.621439    1123.778457"
      ]
     },
     "execution_count": 44,
     "metadata": {},
     "output_type": "execute_result"
    }
   ],
   "source": [
    "df[continous].describe()"
   ]
  },
  {
   "cell_type": "code",
   "execution_count": 45,
   "id": "c3183e90-6d5d-43c9-b194-52139ad524d2",
   "metadata": {},
   "outputs": [
    {
     "data": {
      "text/plain": [
       "size_sq_ft        4.399058\n",
       "price            35.859672\n",
       "AP_dist_km       58.903837\n",
       "Aiims_dist_km    62.703079\n",
       "NDRLW_dist_km    65.980587\n",
       "dtype: float64"
      ]
     },
     "execution_count": 45,
     "metadata": {},
     "output_type": "execute_result"
    }
   ],
   "source": [
    "df[continous].skew()"
   ]
  },
  {
   "cell_type": "markdown",
   "id": "fa699b07-aa14-4264-997b-5119c166568c",
   "metadata": {},
   "source": [
    "**Handle skewness**"
   ]
  },
  {
   "cell_type": "code",
   "execution_count": 46,
   "id": "214391e8-a14a-4abe-8410-57b0f780d0ef",
   "metadata": {},
   "outputs": [],
   "source": [
    "df['size_sq_ft'] = np.log1p(df['size_sq_ft'])"
   ]
  },
  {
   "cell_type": "code",
   "execution_count": 47,
   "id": "f27ac305-4403-4e2d-a2c0-5f9a9d99287f",
   "metadata": {},
   "outputs": [
    {
     "data": {
      "text/plain": [
       "0.02901706625380951"
      ]
     },
     "execution_count": 47,
     "metadata": {},
     "output_type": "execute_result"
    }
   ],
   "source": [
    "df['size_sq_ft'].skew()"
   ]
  },
  {
   "cell_type": "code",
   "execution_count": 48,
   "id": "46814ac6-82da-4b7a-aed0-333f88bbb3d6",
   "metadata": {},
   "outputs": [],
   "source": [
    "df['price'] = np.log1p(df['price'])\n"
   ]
  },
  {
   "cell_type": "code",
   "execution_count": 49,
   "id": "9c29c879-d84f-4d7f-8e21-0d1032da19b0",
   "metadata": {},
   "outputs": [
    {
     "data": {
      "text/plain": [
       "0.8877432699914085"
      ]
     },
     "execution_count": 49,
     "metadata": {},
     "output_type": "execute_result"
    }
   ],
   "source": [
    "df['price'].skew()\n"
   ]
  },
  {
   "cell_type": "code",
   "execution_count": 50,
   "id": "24212397-8c42-4781-a109-4d4de1ec3f64",
   "metadata": {},
   "outputs": [],
   "source": [
    "df['AP_dist_km'] = np.log1p(df['AP_dist_km'])\n"
   ]
  },
  {
   "cell_type": "code",
   "execution_count": 51,
   "id": "eeb84276-6dbe-4c18-a99e-842839ece2ca",
   "metadata": {},
   "outputs": [
    {
     "data": {
      "text/plain": [
       "-0.8271611747857095"
      ]
     },
     "execution_count": 51,
     "metadata": {},
     "output_type": "execute_result"
    }
   ],
   "source": [
    "df['AP_dist_km'].skew()\n"
   ]
  },
  {
   "cell_type": "code",
   "execution_count": 52,
   "id": "ce7dc623-0914-467b-9b39-8de6a1a99f27",
   "metadata": {},
   "outputs": [],
   "source": [
    "df['Aiims_dist_km'] = np.log1p(df['Aiims_dist_km'])\n"
   ]
  },
  {
   "cell_type": "code",
   "execution_count": 53,
   "id": "38df65ef-6d48-4582-9df8-ff2313c4500b",
   "metadata": {},
   "outputs": [
    {
     "data": {
      "text/plain": [
       "-0.9400477608838735"
      ]
     },
     "execution_count": 53,
     "metadata": {},
     "output_type": "execute_result"
    }
   ],
   "source": [
    "df['Aiims_dist_km'].skew()\n"
   ]
  },
  {
   "cell_type": "code",
   "execution_count": 54,
   "id": "e224b776-9388-4f0d-8031-bd0e5335af89",
   "metadata": {},
   "outputs": [],
   "source": [
    "from scipy.stats import boxcox\n",
    "\n",
    "\n",
    "# Apply Box-Cox\n",
    "df['NDRLW_dist_km'], lambda_value = boxcox(df['NDRLW_dist_km'])"
   ]
  },
  {
   "cell_type": "code",
   "execution_count": 55,
   "id": "52bdf834-65b7-41f9-b1fe-297245708aeb",
   "metadata": {},
   "outputs": [
    {
     "data": {
      "text/plain": [
       "0.5856881664955499"
      ]
     },
     "execution_count": 55,
     "metadata": {},
     "output_type": "execute_result"
    }
   ],
   "source": [
    "df['NDRLW_dist_km'].skew()"
   ]
  },
  {
   "cell_type": "code",
   "execution_count": 56,
   "id": "2d7f3c36-e4d1-4fff-a9bd-ba68c29ee7b9",
   "metadata": {},
   "outputs": [
    {
     "data": {
      "image/png": "[encoded data removed]",
      "text/plain": [
       "<Figure size 640x480 with 1 Axes>"
      ]
     },
     "metadata": {},
     "output_type": "display_data"
    },
    {
     "data": {
      "image/png": "[encoded data removed]",
      "text/plain": [
       "<Figure size 640x480 with 1 Axes>"
      ]
     },
     "metadata": {},
     "output_type": "display_data"
    },
    {
     "data": {
      "image/png": "[encoded data removed]",
      "text/plain": [
       "<Figure size 640x480 with 1 Axes>"
      ]
     },
     "metadata": {},
     "output_type": "display_data"
    },
    {
     "data": {
      "image/png": "[encoded data removed]",
      "text/plain": [
       "<Figure size 640x480 with 1 Axes>"
      ]
     },
     "metadata": {},
     "output_type": "display_data"
    },
    {
     "data": {
      "image/png": "[encoded data removed]",
      "text/plain": [
       "<Figure size 640x480 with 1 Axes>"
      ]
     },
     "metadata": {},
     "output_type": "display_data"
    }
   ],
   "source": [
    "for i in continous:\n",
    "    sns.boxplot(df[i])\n",
    "    plt.show()"
   ]
  },
  {
   "cell_type": "code",
   "execution_count": 57,
   "id": "edb55724-1c13-47f1-9662-3ba00994fb90",
   "metadata": {},
   "outputs": [
    {
     "name": "stdout",
     "output_type": "stream",
     "text": [
      "5.010752135338626\n",
      "8.798962659591568\n"
     ]
    }
   ],
   "source": [
    "q1 = df['size_sq_ft'].quantile(0.25)\n",
    "q3 = df['size_sq_ft'].quantile(0.75)\n",
    "\n",
    "IQR = q3 - q1\n",
    "\n",
    "lower_limit = q1 - ( 1.5 * IQR)\n",
    "upper_limit = q3 + ( 1.5 * IQR)\n",
    "\n",
    "print(lower_limit)\n",
    "print(upper_limit)\n",
    "\n"
   ]
  },
  {
   "cell_type": "code",
   "execution_count": 58,
   "id": "bdd66d4e-497b-4710-b405-0f88393ffe80",
   "metadata": {},
   "outputs": [
    {
     "data": {
      "text/html": [
       "<div>\n",
       "<style scoped>\n",
       "    .dataframe tbody tr th:only-of-type {\n",
       "        vertical-align: middle;\n",
       "    }\n",
       "\n",
       "    .dataframe tbody tr th {\n",
       "        vertical-align: top;\n",
       "    }\n",
       "\n",
       "    .dataframe thead th {\n",
       "        text-align: right;\n",
       "    }\n",
       "</style>\n",
       "<table border=\"1\" class=\"dataframe\">\n",
       "  <thead>\n",
       "    <tr style=\"text-align: right;\">\n",
       "      <th></th>\n",
       "      <th>size_sq_ft</th>\n",
       "      <th>propertyType</th>\n",
       "      <th>bedrooms</th>\n",
       "      <th>suburbName</th>\n",
       "      <th>price</th>\n",
       "      <th>AP_dist_km</th>\n",
       "      <th>Aiims_dist_km</th>\n",
       "      <th>NDRLW_dist_km</th>\n",
       "    </tr>\n",
       "  </thead>\n",
       "  <tbody>\n",
       "    <tr>\n",
       "      <th>700</th>\n",
       "      <td>4.615121</td>\n",
       "      <td>Independent House</td>\n",
       "      <td>1</td>\n",
       "      <td>Delhi East</td>\n",
       "      <td>9.350189</td>\n",
       "      <td>3.144252</td>\n",
       "      <td>2.411831</td>\n",
       "      <td>3.433465</td>\n",
       "    </tr>\n",
       "    <tr>\n",
       "      <th>930</th>\n",
       "      <td>9.680406</td>\n",
       "      <td>Independent House</td>\n",
       "      <td>5</td>\n",
       "      <td>Delhi East</td>\n",
       "      <td>13.017005</td>\n",
       "      <td>1.668208</td>\n",
       "      <td>2.596872</td>\n",
       "      <td>4.817682</td>\n",
       "    </tr>\n",
       "    <tr>\n",
       "      <th>931</th>\n",
       "      <td>9.305741</td>\n",
       "      <td>Villa</td>\n",
       "      <td>5</td>\n",
       "      <td>Delhi East</td>\n",
       "      <td>12.936036</td>\n",
       "      <td>1.668208</td>\n",
       "      <td>2.596872</td>\n",
       "      <td>4.817682</td>\n",
       "    </tr>\n",
       "    <tr>\n",
       "      <th>932</th>\n",
       "      <td>9.680406</td>\n",
       "      <td>Villa</td>\n",
       "      <td>5</td>\n",
       "      <td>Delhi East</td>\n",
       "      <td>12.959847</td>\n",
       "      <td>1.668208</td>\n",
       "      <td>2.596872</td>\n",
       "      <td>4.817682</td>\n",
       "    </tr>\n",
       "    <tr>\n",
       "      <th>933</th>\n",
       "      <td>9.615872</td>\n",
       "      <td>Villa</td>\n",
       "      <td>5</td>\n",
       "      <td>Delhi East</td>\n",
       "      <td>12.950390</td>\n",
       "      <td>1.668208</td>\n",
       "      <td>2.596872</td>\n",
       "      <td>4.817682</td>\n",
       "    </tr>\n",
       "    <tr>\n",
       "      <th>971</th>\n",
       "      <td>9.667829</td>\n",
       "      <td>Villa</td>\n",
       "      <td>5</td>\n",
       "      <td>Delhi East</td>\n",
       "      <td>12.994532</td>\n",
       "      <td>1.668208</td>\n",
       "      <td>2.596872</td>\n",
       "      <td>4.817682</td>\n",
       "    </tr>\n",
       "    <tr>\n",
       "      <th>2224</th>\n",
       "      <td>8.853808</td>\n",
       "      <td>Independent House</td>\n",
       "      <td>6</td>\n",
       "      <td>Delhi South</td>\n",
       "      <td>12.899222</td>\n",
       "      <td>2.261324</td>\n",
       "      <td>1.604354</td>\n",
       "      <td>3.129971</td>\n",
       "    </tr>\n",
       "    <tr>\n",
       "      <th>4270</th>\n",
       "      <td>8.881975</td>\n",
       "      <td>Independent House</td>\n",
       "      <td>4</td>\n",
       "      <td>Delhi South</td>\n",
       "      <td>12.765691</td>\n",
       "      <td>2.925559</td>\n",
       "      <td>1.875527</td>\n",
       "      <td>3.148911</td>\n",
       "    </tr>\n",
       "    <tr>\n",
       "      <th>4280</th>\n",
       "      <td>8.922792</td>\n",
       "      <td>Villa</td>\n",
       "      <td>6</td>\n",
       "      <td>Delhi South</td>\n",
       "      <td>12.676079</td>\n",
       "      <td>3.004925</td>\n",
       "      <td>2.087779</td>\n",
       "      <td>3.236183</td>\n",
       "    </tr>\n",
       "    <tr>\n",
       "      <th>4393</th>\n",
       "      <td>9.105091</td>\n",
       "      <td>Independent House</td>\n",
       "      <td>10</td>\n",
       "      <td>Delhi South</td>\n",
       "      <td>12.765691</td>\n",
       "      <td>2.852038</td>\n",
       "      <td>1.666731</td>\n",
       "      <td>3.259103</td>\n",
       "    </tr>\n",
       "    <tr>\n",
       "      <th>4395</th>\n",
       "      <td>9.105091</td>\n",
       "      <td>Independent Floor</td>\n",
       "      <td>5</td>\n",
       "      <td>Delhi South</td>\n",
       "      <td>13.122365</td>\n",
       "      <td>2.826343</td>\n",
       "      <td>1.717162</td>\n",
       "      <td>3.624813</td>\n",
       "    </tr>\n",
       "    <tr>\n",
       "      <th>4789</th>\n",
       "      <td>9.105091</td>\n",
       "      <td>Villa</td>\n",
       "      <td>10</td>\n",
       "      <td>Delhi South</td>\n",
       "      <td>13.122365</td>\n",
       "      <td>2.925793</td>\n",
       "      <td>1.876143</td>\n",
       "      <td>3.140639</td>\n",
       "    </tr>\n",
       "    <tr>\n",
       "      <th>5515</th>\n",
       "      <td>8.881975</td>\n",
       "      <td>Independent Floor</td>\n",
       "      <td>5</td>\n",
       "      <td>Delhi South</td>\n",
       "      <td>12.206078</td>\n",
       "      <td>2.635147</td>\n",
       "      <td>1.367241</td>\n",
       "      <td>3.619519</td>\n",
       "    </tr>\n",
       "    <tr>\n",
       "      <th>7168</th>\n",
       "      <td>4.615121</td>\n",
       "      <td>Independent House</td>\n",
       "      <td>1</td>\n",
       "      <td>West Delhi</td>\n",
       "      <td>9.210440</td>\n",
       "      <td>2.287041</td>\n",
       "      <td>2.514523</td>\n",
       "      <td>3.460945</td>\n",
       "    </tr>\n",
       "    <tr>\n",
       "      <th>7169</th>\n",
       "      <td>4.615121</td>\n",
       "      <td>Independent House</td>\n",
       "      <td>1</td>\n",
       "      <td>West Delhi</td>\n",
       "      <td>9.305741</td>\n",
       "      <td>2.287041</td>\n",
       "      <td>2.514523</td>\n",
       "      <td>3.460945</td>\n",
       "    </tr>\n",
       "    <tr>\n",
       "      <th>7170</th>\n",
       "      <td>4.615121</td>\n",
       "      <td>Independent House</td>\n",
       "      <td>1</td>\n",
       "      <td>West Delhi</td>\n",
       "      <td>9.392745</td>\n",
       "      <td>2.287041</td>\n",
       "      <td>2.514523</td>\n",
       "      <td>3.460945</td>\n",
       "    </tr>\n",
       "    <tr>\n",
       "      <th>9143</th>\n",
       "      <td>9.392745</td>\n",
       "      <td>Apartment</td>\n",
       "      <td>10</td>\n",
       "      <td>North Delhi</td>\n",
       "      <td>13.017005</td>\n",
       "      <td>2.888276</td>\n",
       "      <td>2.784895</td>\n",
       "      <td>3.148535</td>\n",
       "    </tr>\n",
       "    <tr>\n",
       "      <th>11893</th>\n",
       "      <td>8.853808</td>\n",
       "      <td>Independent House</td>\n",
       "      <td>6</td>\n",
       "      <td>Delhi Central</td>\n",
       "      <td>13.592368</td>\n",
       "      <td>2.858229</td>\n",
       "      <td>2.165774</td>\n",
       "      <td>-0.039615</td>\n",
       "    </tr>\n",
       "    <tr>\n",
       "      <th>13844</th>\n",
       "      <td>8.925587</td>\n",
       "      <td>Independent House</td>\n",
       "      <td>5</td>\n",
       "      <td>Delhi Central</td>\n",
       "      <td>14.750216</td>\n",
       "      <td>2.805727</td>\n",
       "      <td>1.874105</td>\n",
       "      <td>1.454745</td>\n",
       "    </tr>\n",
       "    <tr>\n",
       "      <th>13867</th>\n",
       "      <td>9.649627</td>\n",
       "      <td>Villa</td>\n",
       "      <td>15</td>\n",
       "      <td>Delhi Central</td>\n",
       "      <td>15.204554</td>\n",
       "      <td>2.805727</td>\n",
       "      <td>1.874105</td>\n",
       "      <td>1.454745</td>\n",
       "    </tr>\n",
       "    <tr>\n",
       "      <th>13868</th>\n",
       "      <td>9.712448</td>\n",
       "      <td>Independent House</td>\n",
       "      <td>10</td>\n",
       "      <td>Delhi Central</td>\n",
       "      <td>15.136311</td>\n",
       "      <td>2.866962</td>\n",
       "      <td>2.029136</td>\n",
       "      <td>1.230291</td>\n",
       "    </tr>\n",
       "    <tr>\n",
       "      <th>13916</th>\n",
       "      <td>9.050406</td>\n",
       "      <td>Independent House</td>\n",
       "      <td>5</td>\n",
       "      <td>Delhi Central</td>\n",
       "      <td>14.600285</td>\n",
       "      <td>2.866962</td>\n",
       "      <td>2.029136</td>\n",
       "      <td>1.230291</td>\n",
       "    </tr>\n",
       "    <tr>\n",
       "      <th>13971</th>\n",
       "      <td>9.055206</td>\n",
       "      <td>Independent House</td>\n",
       "      <td>5</td>\n",
       "      <td>Delhi Central</td>\n",
       "      <td>13.981961</td>\n",
       "      <td>2.724399</td>\n",
       "      <td>1.591097</td>\n",
       "      <td>1.965952</td>\n",
       "    </tr>\n",
       "    <tr>\n",
       "      <th>13972</th>\n",
       "      <td>9.652652</td>\n",
       "      <td>Independent House</td>\n",
       "      <td>12</td>\n",
       "      <td>Delhi Central</td>\n",
       "      <td>15.588027</td>\n",
       "      <td>2.723579</td>\n",
       "      <td>1.638753</td>\n",
       "      <td>1.860883</td>\n",
       "    </tr>\n",
       "    <tr>\n",
       "      <th>14000</th>\n",
       "      <td>9.306650</td>\n",
       "      <td>Villa</td>\n",
       "      <td>8</td>\n",
       "      <td>Delhi Central</td>\n",
       "      <td>15.204327</td>\n",
       "      <td>2.866962</td>\n",
       "      <td>2.029136</td>\n",
       "      <td>1.230291</td>\n",
       "    </tr>\n",
       "    <tr>\n",
       "      <th>14620</th>\n",
       "      <td>9.210440</td>\n",
       "      <td>Independent Floor</td>\n",
       "      <td>10</td>\n",
       "      <td>Other</td>\n",
       "      <td>12.100718</td>\n",
       "      <td>1.185880</td>\n",
       "      <td>2.667434</td>\n",
       "      <td>4.539106</td>\n",
       "    </tr>\n",
       "    <tr>\n",
       "      <th>14623</th>\n",
       "      <td>9.105091</td>\n",
       "      <td>Independent Floor</td>\n",
       "      <td>5</td>\n",
       "      <td>Other</td>\n",
       "      <td>12.765691</td>\n",
       "      <td>2.212169</td>\n",
       "      <td>1.662575</td>\n",
       "      <td>3.239248</td>\n",
       "    </tr>\n",
       "    <tr>\n",
       "      <th>14629</th>\n",
       "      <td>8.853808</td>\n",
       "      <td>Independent House</td>\n",
       "      <td>7</td>\n",
       "      <td>Other</td>\n",
       "      <td>14.187075</td>\n",
       "      <td>2.889528</td>\n",
       "      <td>1.891569</td>\n",
       "      <td>2.208972</td>\n",
       "    </tr>\n",
       "    <tr>\n",
       "      <th>14638</th>\n",
       "      <td>8.987322</td>\n",
       "      <td>Independent Floor</td>\n",
       "      <td>5</td>\n",
       "      <td>Other</td>\n",
       "      <td>12.429220</td>\n",
       "      <td>2.629496</td>\n",
       "      <td>0.785693</td>\n",
       "      <td>3.221020</td>\n",
       "    </tr>\n",
       "    <tr>\n",
       "      <th>14650</th>\n",
       "      <td>9.287394</td>\n",
       "      <td>Independent House</td>\n",
       "      <td>9</td>\n",
       "      <td>Other</td>\n",
       "      <td>13.122365</td>\n",
       "      <td>2.843509</td>\n",
       "      <td>1.807442</td>\n",
       "      <td>3.739746</td>\n",
       "    </tr>\n",
       "    <tr>\n",
       "      <th>14804</th>\n",
       "      <td>8.853808</td>\n",
       "      <td>Independent Floor</td>\n",
       "      <td>4</td>\n",
       "      <td>Other</td>\n",
       "      <td>12.691584</td>\n",
       "      <td>2.195209</td>\n",
       "      <td>1.699222</td>\n",
       "      <td>3.248148</td>\n",
       "    </tr>\n",
       "    <tr>\n",
       "      <th>14915</th>\n",
       "      <td>9.210440</td>\n",
       "      <td>Independent House</td>\n",
       "      <td>10</td>\n",
       "      <td>Other</td>\n",
       "      <td>11.918397</td>\n",
       "      <td>1.185880</td>\n",
       "      <td>2.667434</td>\n",
       "      <td>4.539106</td>\n",
       "    </tr>\n",
       "    <tr>\n",
       "      <th>15342</th>\n",
       "      <td>4.709530</td>\n",
       "      <td>Apartment</td>\n",
       "      <td>1</td>\n",
       "      <td>Other</td>\n",
       "      <td>10.308986</td>\n",
       "      <td>2.648632</td>\n",
       "      <td>0.712035</td>\n",
       "      <td>2.937794</td>\n",
       "    </tr>\n",
       "    <tr>\n",
       "      <th>15343</th>\n",
       "      <td>8.890273</td>\n",
       "      <td>Independent House</td>\n",
       "      <td>4</td>\n",
       "      <td>Other</td>\n",
       "      <td>12.611541</td>\n",
       "      <td>2.646086</td>\n",
       "      <td>2.538141</td>\n",
       "      <td>5.009025</td>\n",
       "    </tr>\n",
       "    <tr>\n",
       "      <th>15380</th>\n",
       "      <td>8.853808</td>\n",
       "      <td>Independent House</td>\n",
       "      <td>5</td>\n",
       "      <td>Other</td>\n",
       "      <td>12.524530</td>\n",
       "      <td>2.174312</td>\n",
       "      <td>1.726229</td>\n",
       "      <td>3.285211</td>\n",
       "    </tr>\n",
       "    <tr>\n",
       "      <th>15402</th>\n",
       "      <td>9.648660</td>\n",
       "      <td>Apartment</td>\n",
       "      <td>2</td>\n",
       "      <td>Other</td>\n",
       "      <td>11.225257</td>\n",
       "      <td>1.990969</td>\n",
       "      <td>2.038367</td>\n",
       "      <td>4.037371</td>\n",
       "    </tr>\n",
       "    <tr>\n",
       "      <th>15408</th>\n",
       "      <td>9.159152</td>\n",
       "      <td>Villa</td>\n",
       "      <td>5</td>\n",
       "      <td>Other</td>\n",
       "      <td>12.611541</td>\n",
       "      <td>2.420151</td>\n",
       "      <td>2.417434</td>\n",
       "      <td>4.780975</td>\n",
       "    </tr>\n",
       "    <tr>\n",
       "      <th>15523</th>\n",
       "      <td>4.875197</td>\n",
       "      <td>Apartment</td>\n",
       "      <td>1</td>\n",
       "      <td>Other</td>\n",
       "      <td>9.615872</td>\n",
       "      <td>2.342236</td>\n",
       "      <td>2.135750</td>\n",
       "      <td>4.374764</td>\n",
       "    </tr>\n",
       "    <tr>\n",
       "      <th>15658</th>\n",
       "      <td>4.615121</td>\n",
       "      <td>Villa</td>\n",
       "      <td>1</td>\n",
       "      <td>Other</td>\n",
       "      <td>9.392745</td>\n",
       "      <td>2.741442</td>\n",
       "      <td>1.970404</td>\n",
       "      <td>4.173549</td>\n",
       "    </tr>\n",
       "    <tr>\n",
       "      <th>15678</th>\n",
       "      <td>4.615121</td>\n",
       "      <td>Apartment</td>\n",
       "      <td>1</td>\n",
       "      <td>Other</td>\n",
       "      <td>9.908525</td>\n",
       "      <td>1.542263</td>\n",
       "      <td>2.689313</td>\n",
       "      <td>4.466350</td>\n",
       "    </tr>\n",
       "    <tr>\n",
       "      <th>15916</th>\n",
       "      <td>8.853808</td>\n",
       "      <td>Independent Floor</td>\n",
       "      <td>4</td>\n",
       "      <td>Other</td>\n",
       "      <td>12.740388</td>\n",
       "      <td>2.679955</td>\n",
       "      <td>0.938288</td>\n",
       "      <td>2.845019</td>\n",
       "    </tr>\n",
       "    <tr>\n",
       "      <th>15994</th>\n",
       "      <td>9.159152</td>\n",
       "      <td>Villa</td>\n",
       "      <td>5</td>\n",
       "      <td>Other</td>\n",
       "      <td>11.156265</td>\n",
       "      <td>2.541377</td>\n",
       "      <td>2.136574</td>\n",
       "      <td>4.425926</td>\n",
       "    </tr>\n",
       "    <tr>\n",
       "      <th>16066</th>\n",
       "      <td>8.832734</td>\n",
       "      <td>Independent House</td>\n",
       "      <td>5</td>\n",
       "      <td>Other</td>\n",
       "      <td>14.251451</td>\n",
       "      <td>2.584015</td>\n",
       "      <td>2.818247</td>\n",
       "      <td>3.945191</td>\n",
       "    </tr>\n",
       "    <tr>\n",
       "      <th>17087</th>\n",
       "      <td>8.962392</td>\n",
       "      <td>Independent House</td>\n",
       "      <td>9</td>\n",
       "      <td>Other</td>\n",
       "      <td>14.151984</td>\n",
       "      <td>2.854684</td>\n",
       "      <td>1.823914</td>\n",
       "      <td>2.088255</td>\n",
       "    </tr>\n",
       "    <tr>\n",
       "      <th>17341</th>\n",
       "      <td>4.948760</td>\n",
       "      <td>Apartment</td>\n",
       "      <td>1</td>\n",
       "      <td>South West Delhi</td>\n",
       "      <td>8.779711</td>\n",
       "      <td>1.750247</td>\n",
       "      <td>2.242863</td>\n",
       "      <td>4.248121</td>\n",
       "    </tr>\n",
       "    <tr>\n",
       "      <th>17385</th>\n",
       "      <td>4.948760</td>\n",
       "      <td>Apartment</td>\n",
       "      <td>1</td>\n",
       "      <td>South West Delhi</td>\n",
       "      <td>8.779711</td>\n",
       "      <td>1.744115</td>\n",
       "      <td>2.246643</td>\n",
       "      <td>4.251925</td>\n",
       "    </tr>\n",
       "    <tr>\n",
       "      <th>17386</th>\n",
       "      <td>4.948760</td>\n",
       "      <td>Apartment</td>\n",
       "      <td>1</td>\n",
       "      <td>South West Delhi</td>\n",
       "      <td>8.853808</td>\n",
       "      <td>1.750247</td>\n",
       "      <td>2.242863</td>\n",
       "      <td>4.248121</td>\n",
       "    </tr>\n",
       "    <tr>\n",
       "      <th>17387</th>\n",
       "      <td>4.948760</td>\n",
       "      <td>Apartment</td>\n",
       "      <td>1</td>\n",
       "      <td>South West Delhi</td>\n",
       "      <td>8.699681</td>\n",
       "      <td>1.750247</td>\n",
       "      <td>2.242863</td>\n",
       "      <td>4.248121</td>\n",
       "    </tr>\n",
       "  </tbody>\n",
       "</table>\n",
       "</div>"
      ],
      "text/plain": [
       "       size_sq_ft       propertyType  bedrooms        suburbName      price  \\\n",
       "700      4.615121  Independent House         1        Delhi East   9.350189   \n",
       "930      9.680406  Independent House         5        Delhi East  13.017005   \n",
       "931      9.305741              Villa         5        Delhi East  12.936036   \n",
       "932      9.680406              Villa         5        Delhi East  12.959847   \n",
       "933      9.615872              Villa         5        Delhi East  12.950390   \n",
       "971      9.667829              Villa         5        Delhi East  12.994532   \n",
       "2224     8.853808  Independent House         6       Delhi South  12.899222   \n",
       "4270     8.881975  Independent House         4       Delhi South  12.765691   \n",
       "4280     8.922792              Villa         6       Delhi South  12.676079   \n",
       "4393     9.105091  Independent House        10       Delhi South  12.765691   \n",
       "4395     9.105091  Independent Floor         5       Delhi South  13.122365   \n",
       "4789     9.105091              Villa        10       Delhi South  13.122365   \n",
       "5515     8.881975  Independent Floor         5       Delhi South  12.206078   \n",
       "7168     4.615121  Independent House         1        West Delhi   9.210440   \n",
       "7169     4.615121  Independent House         1        West Delhi   9.305741   \n",
       "7170     4.615121  Independent House         1        West Delhi   9.392745   \n",
       "9143     9.392745          Apartment        10       North Delhi  13.017005   \n",
       "11893    8.853808  Independent House         6     Delhi Central  13.592368   \n",
       "13844    8.925587  Independent House         5     Delhi Central  14.750216   \n",
       "13867    9.649627              Villa        15     Delhi Central  15.204554   \n",
       "13868    9.712448  Independent House        10     Delhi Central  15.136311   \n",
       "13916    9.050406  Independent House         5     Delhi Central  14.600285   \n",
       "13971    9.055206  Independent House         5     Delhi Central  13.981961   \n",
       "13972    9.652652  Independent House        12     Delhi Central  15.588027   \n",
       "14000    9.306650              Villa         8     Delhi Central  15.204327   \n",
       "14620    9.210440  Independent Floor        10             Other  12.100718   \n",
       "14623    9.105091  Independent Floor         5             Other  12.765691   \n",
       "14629    8.853808  Independent House         7             Other  14.187075   \n",
       "14638    8.987322  Independent Floor         5             Other  12.429220   \n",
       "14650    9.287394  Independent House         9             Other  13.122365   \n",
       "14804    8.853808  Independent Floor         4             Other  12.691584   \n",
       "14915    9.210440  Independent House        10             Other  11.918397   \n",
       "15342    4.709530          Apartment         1             Other  10.308986   \n",
       "15343    8.890273  Independent House         4             Other  12.611541   \n",
       "15380    8.853808  Independent House         5             Other  12.524530   \n",
       "15402    9.648660          Apartment         2             Other  11.225257   \n",
       "15408    9.159152              Villa         5             Other  12.611541   \n",
       "15523    4.875197          Apartment         1             Other   9.615872   \n",
       "15658    4.615121              Villa         1             Other   9.392745   \n",
       "15678    4.615121          Apartment         1             Other   9.908525   \n",
       "15916    8.853808  Independent Floor         4             Other  12.740388   \n",
       "15994    9.159152              Villa         5             Other  11.156265   \n",
       "16066    8.832734  Independent House         5             Other  14.251451   \n",
       "17087    8.962392  Independent House         9             Other  14.151984   \n",
       "17341    4.948760          Apartment         1  South West Delhi   8.779711   \n",
       "17385    4.948760          Apartment         1  South West Delhi   8.779711   \n",
       "17386    4.948760          Apartment         1  South West Delhi   8.853808   \n",
       "17387    4.948760          Apartment         1  South West Delhi   8.699681   \n",
       "\n",
       "       AP_dist_km  Aiims_dist_km  NDRLW_dist_km  \n",
       "700      3.144252       2.411831       3.433465  \n",
       "930      1.668208       2.596872       4.817682  \n",
       "931      1.668208       2.596872       4.817682  \n",
       "932      1.668208       2.596872       4.817682  \n",
       "933      1.668208       2.596872       4.817682  \n",
       "971      1.668208       2.596872       4.817682  \n",
       "2224     2.261324       1.604354       3.129971  \n",
       "4270     2.925559       1.875527       3.148911  \n",
       "4280     3.004925       2.087779       3.236183  \n",
       "4393     2.852038       1.666731       3.259103  \n",
       "4395     2.826343       1.717162       3.624813  \n",
       "4789     2.925793       1.876143       3.140639  \n",
       "5515     2.635147       1.367241       3.619519  \n",
       "7168     2.287041       2.514523       3.460945  \n",
       "7169     2.287041       2.514523       3.460945  \n",
       "7170     2.287041       2.514523       3.460945  \n",
       "9143     2.888276       2.784895       3.148535  \n",
       "11893    2.858229       2.165774      -0.039615  \n",
       "13844    2.805727       1.874105       1.454745  \n",
       "13867    2.805727       1.874105       1.454745  \n",
       "13868    2.866962       2.029136       1.230291  \n",
       "13916    2.866962       2.029136       1.230291  \n",
       "13971    2.724399       1.591097       1.965952  \n",
       "13972    2.723579       1.638753       1.860883  \n",
       "14000    2.866962       2.029136       1.230291  \n",
       "14620    1.185880       2.667434       4.539106  \n",
       "14623    2.212169       1.662575       3.239248  \n",
       "14629    2.889528       1.891569       2.208972  \n",
       "14638    2.629496       0.785693       3.221020  \n",
       "14650    2.843509       1.807442       3.739746  \n",
       "14804    2.195209       1.699222       3.248148  \n",
       "14915    1.185880       2.667434       4.539106  \n",
       "15342    2.648632       0.712035       2.937794  \n",
       "15343    2.646086       2.538141       5.009025  \n",
       "15380    2.174312       1.726229       3.285211  \n",
       "15402    1.990969       2.038367       4.037371  \n",
       "15408    2.420151       2.417434       4.780975  \n",
       "15523    2.342236       2.135750       4.374764  \n",
       "15658    2.741442       1.970404       4.173549  \n",
       "15678    1.542263       2.689313       4.466350  \n",
       "15916    2.679955       0.938288       2.845019  \n",
       "15994    2.541377       2.136574       4.425926  \n",
       "16066    2.584015       2.818247       3.945191  \n",
       "17087    2.854684       1.823914       2.088255  \n",
       "17341    1.750247       2.242863       4.248121  \n",
       "17385    1.744115       2.246643       4.251925  \n",
       "17386    1.750247       2.242863       4.248121  \n",
       "17387    1.750247       2.242863       4.248121  "
      ]
     },
     "execution_count": 58,
     "metadata": {},
     "output_type": "execute_result"
    }
   ],
   "source": [
    "df[(df['size_sq_ft']<lower_limit)|(df['size_sq_ft']>upper_limit)]"
   ]
  },
  {
   "cell_type": "markdown",
   "id": "9441ad95-337e-4698-aa72-5756839938d6",
   "metadata": {},
   "source": [
    "**All data points are genuine there is possibility sq_ft can be anything so we are retain the outliers** "
   ]
  },
  {
   "cell_type": "code",
   "execution_count": 59,
   "id": "c416dc6a-5dbe-4adb-a942-d8cceb1ea0b5",
   "metadata": {},
   "outputs": [
    {
     "name": "stdout",
     "output_type": "stream",
     "text": [
      "8.081599722155165\n",
      "11.892051225094047\n"
     ]
    }
   ],
   "source": [
    "q1 = df['price'].quantile(0.25)\n",
    "q3 = df['price'].quantile(0.75)\n",
    "\n",
    "IQR = q3 - q1\n",
    "\n",
    "lower_limit = q1 - ( 1.5 * IQR)\n",
    "upper_limit = q3 + ( 1.5 * IQR)\n",
    "\n",
    "print(lower_limit)\n",
    "print(upper_limit)\n",
    "\n"
   ]
  },
  {
   "cell_type": "code",
   "execution_count": 60,
   "id": "ed41522d-8533-4c7b-bca3-81c899df7825",
   "metadata": {},
   "outputs": [
    {
     "data": {
      "text/html": [
       "<div>\n",
       "<style scoped>\n",
       "    .dataframe tbody tr th:only-of-type {\n",
       "        vertical-align: middle;\n",
       "    }\n",
       "\n",
       "    .dataframe tbody tr th {\n",
       "        vertical-align: top;\n",
       "    }\n",
       "\n",
       "    .dataframe thead th {\n",
       "        text-align: right;\n",
       "    }\n",
       "</style>\n",
       "<table border=\"1\" class=\"dataframe\">\n",
       "  <thead>\n",
       "    <tr style=\"text-align: right;\">\n",
       "      <th></th>\n",
       "      <th>size_sq_ft</th>\n",
       "      <th>propertyType</th>\n",
       "      <th>bedrooms</th>\n",
       "      <th>suburbName</th>\n",
       "      <th>price</th>\n",
       "      <th>AP_dist_km</th>\n",
       "      <th>Aiims_dist_km</th>\n",
       "      <th>NDRLW_dist_km</th>\n",
       "    </tr>\n",
       "  </thead>\n",
       "  <tbody>\n",
       "    <tr>\n",
       "      <th>930</th>\n",
       "      <td>9.680406</td>\n",
       "      <td>Independent House</td>\n",
       "      <td>5</td>\n",
       "      <td>Delhi East</td>\n",
       "      <td>13.017005</td>\n",
       "      <td>1.668208</td>\n",
       "      <td>2.596872</td>\n",
       "      <td>4.817682</td>\n",
       "    </tr>\n",
       "    <tr>\n",
       "      <th>931</th>\n",
       "      <td>9.305741</td>\n",
       "      <td>Villa</td>\n",
       "      <td>5</td>\n",
       "      <td>Delhi East</td>\n",
       "      <td>12.936036</td>\n",
       "      <td>1.668208</td>\n",
       "      <td>2.596872</td>\n",
       "      <td>4.817682</td>\n",
       "    </tr>\n",
       "    <tr>\n",
       "      <th>932</th>\n",
       "      <td>9.680406</td>\n",
       "      <td>Villa</td>\n",
       "      <td>5</td>\n",
       "      <td>Delhi East</td>\n",
       "      <td>12.959847</td>\n",
       "      <td>1.668208</td>\n",
       "      <td>2.596872</td>\n",
       "      <td>4.817682</td>\n",
       "    </tr>\n",
       "    <tr>\n",
       "      <th>933</th>\n",
       "      <td>9.615872</td>\n",
       "      <td>Villa</td>\n",
       "      <td>5</td>\n",
       "      <td>Delhi East</td>\n",
       "      <td>12.950390</td>\n",
       "      <td>1.668208</td>\n",
       "      <td>2.596872</td>\n",
       "      <td>4.817682</td>\n",
       "    </tr>\n",
       "    <tr>\n",
       "      <th>971</th>\n",
       "      <td>9.667829</td>\n",
       "      <td>Villa</td>\n",
       "      <td>5</td>\n",
       "      <td>Delhi East</td>\n",
       "      <td>12.994532</td>\n",
       "      <td>1.668208</td>\n",
       "      <td>2.596872</td>\n",
       "      <td>4.817682</td>\n",
       "    </tr>\n",
       "    <tr>\n",
       "      <th>...</th>\n",
       "      <td>...</td>\n",
       "      <td>...</td>\n",
       "      <td>...</td>\n",
       "      <td>...</td>\n",
       "      <td>...</td>\n",
       "      <td>...</td>\n",
       "      <td>...</td>\n",
       "      <td>...</td>\n",
       "    </tr>\n",
       "    <tr>\n",
       "      <th>17087</th>\n",
       "      <td>8.962392</td>\n",
       "      <td>Independent House</td>\n",
       "      <td>9</td>\n",
       "      <td>Other</td>\n",
       "      <td>14.151984</td>\n",
       "      <td>2.854684</td>\n",
       "      <td>1.823914</td>\n",
       "      <td>2.088255</td>\n",
       "    </tr>\n",
       "    <tr>\n",
       "      <th>17224</th>\n",
       "      <td>5.525453</td>\n",
       "      <td>Independent Floor</td>\n",
       "      <td>1</td>\n",
       "      <td>Other</td>\n",
       "      <td>8.006701</td>\n",
       "      <td>3.313169</td>\n",
       "      <td>2.995615</td>\n",
       "      <td>3.563784</td>\n",
       "    </tr>\n",
       "    <tr>\n",
       "      <th>17283</th>\n",
       "      <td>6.302619</td>\n",
       "      <td>Independent Floor</td>\n",
       "      <td>1</td>\n",
       "      <td>Other</td>\n",
       "      <td>8.006701</td>\n",
       "      <td>3.298654</td>\n",
       "      <td>2.984885</td>\n",
       "      <td>3.509783</td>\n",
       "    </tr>\n",
       "    <tr>\n",
       "      <th>17430</th>\n",
       "      <td>8.294300</td>\n",
       "      <td>Independent Floor</td>\n",
       "      <td>6</td>\n",
       "      <td>Delhi North</td>\n",
       "      <td>12.323860</td>\n",
       "      <td>2.980328</td>\n",
       "      <td>2.046767</td>\n",
       "      <td>3.571643</td>\n",
       "    </tr>\n",
       "    <tr>\n",
       "      <th>17739</th>\n",
       "      <td>7.696667</td>\n",
       "      <td>Independent Floor</td>\n",
       "      <td>4</td>\n",
       "      <td>Delhi West</td>\n",
       "      <td>11.918397</td>\n",
       "      <td>2.624857</td>\n",
       "      <td>2.199082</td>\n",
       "      <td>1.788545</td>\n",
       "    </tr>\n",
       "  </tbody>\n",
       "</table>\n",
       "<p>391 rows × 8 columns</p>\n",
       "</div>"
      ],
      "text/plain": [
       "       size_sq_ft       propertyType  bedrooms   suburbName      price  \\\n",
       "930      9.680406  Independent House         5   Delhi East  13.017005   \n",
       "931      9.305741              Villa         5   Delhi East  12.936036   \n",
       "932      9.680406              Villa         5   Delhi East  12.959847   \n",
       "933      9.615872              Villa         5   Delhi East  12.950390   \n",
       "971      9.667829              Villa         5   Delhi East  12.994532   \n",
       "...           ...                ...       ...          ...        ...   \n",
       "17087    8.962392  Independent House         9        Other  14.151984   \n",
       "17224    5.525453  Independent Floor         1        Other   8.006701   \n",
       "17283    6.302619  Independent Floor         1        Other   8.006701   \n",
       "17430    8.294300  Independent Floor         6  Delhi North  12.323860   \n",
       "17739    7.696667  Independent Floor         4   Delhi West  11.918397   \n",
       "\n",
       "       AP_dist_km  Aiims_dist_km  NDRLW_dist_km  \n",
       "930      1.668208       2.596872       4.817682  \n",
       "931      1.668208       2.596872       4.817682  \n",
       "932      1.668208       2.596872       4.817682  \n",
       "933      1.668208       2.596872       4.817682  \n",
       "971      1.668208       2.596872       4.817682  \n",
       "...           ...            ...            ...  \n",
       "17087    2.854684       1.823914       2.088255  \n",
       "17224    3.313169       2.995615       3.563784  \n",
       "17283    3.298654       2.984885       3.509783  \n",
       "17430    2.980328       2.046767       3.571643  \n",
       "17739    2.624857       2.199082       1.788545  \n",
       "\n",
       "[391 rows x 8 columns]"
      ]
     },
     "execution_count": 60,
     "metadata": {},
     "output_type": "execute_result"
    }
   ],
   "source": [
    "df[(df['price']<lower_limit)|(df['price']>upper_limit)]"
   ]
  },
  {
   "cell_type": "code",
   "execution_count": null,
   "id": "20bd3ea1-048c-4978-95ed-c462fd81d226",
   "metadata": {},
   "outputs": [],
   "source": []
  },
  {
   "cell_type": "code",
   "execution_count": 61,
   "id": "7525894a-08a3-4105-9547-4410879701c5",
   "metadata": {},
   "outputs": [
    {
     "name": "stdout",
     "output_type": "stream",
     "text": [
      "1.8670410866188083\n",
      "3.518838023826648\n"
     ]
    }
   ],
   "source": [
    "q1 = df['AP_dist_km'].quantile(0.25)\n",
    "q3 = df['AP_dist_km'].quantile(0.75)\n",
    "\n",
    "IQR = q3 - q1\n",
    "\n",
    "lower_limit = q1 - ( 1.5 * IQR)\n",
    "upper_limit = q3 + ( 1.5 * IQR)\n",
    "\n",
    "print(lower_limit)\n",
    "print(upper_limit)\n",
    "\n"
   ]
  },
  {
   "cell_type": "code",
   "execution_count": 62,
   "id": "b27b69ae-c08c-4e45-ab7b-3b780251d9dc",
   "metadata": {},
   "outputs": [
    {
     "data": {
      "text/html": [
       "<div>\n",
       "<style scoped>\n",
       "    .dataframe tbody tr th:only-of-type {\n",
       "        vertical-align: middle;\n",
       "    }\n",
       "\n",
       "    .dataframe tbody tr th {\n",
       "        vertical-align: top;\n",
       "    }\n",
       "\n",
       "    .dataframe thead th {\n",
       "        text-align: right;\n",
       "    }\n",
       "</style>\n",
       "<table border=\"1\" class=\"dataframe\">\n",
       "  <thead>\n",
       "    <tr style=\"text-align: right;\">\n",
       "      <th></th>\n",
       "      <th>size_sq_ft</th>\n",
       "      <th>propertyType</th>\n",
       "      <th>bedrooms</th>\n",
       "      <th>suburbName</th>\n",
       "      <th>price</th>\n",
       "      <th>AP_dist_km</th>\n",
       "      <th>Aiims_dist_km</th>\n",
       "      <th>NDRLW_dist_km</th>\n",
       "    </tr>\n",
       "  </thead>\n",
       "  <tbody>\n",
       "    <tr>\n",
       "      <th>930</th>\n",
       "      <td>9.680406</td>\n",
       "      <td>Independent House</td>\n",
       "      <td>5</td>\n",
       "      <td>Delhi East</td>\n",
       "      <td>13.017005</td>\n",
       "      <td>1.668208</td>\n",
       "      <td>2.596872</td>\n",
       "      <td>4.817682</td>\n",
       "    </tr>\n",
       "    <tr>\n",
       "      <th>931</th>\n",
       "      <td>9.305741</td>\n",
       "      <td>Villa</td>\n",
       "      <td>5</td>\n",
       "      <td>Delhi East</td>\n",
       "      <td>12.936036</td>\n",
       "      <td>1.668208</td>\n",
       "      <td>2.596872</td>\n",
       "      <td>4.817682</td>\n",
       "    </tr>\n",
       "    <tr>\n",
       "      <th>932</th>\n",
       "      <td>9.680406</td>\n",
       "      <td>Villa</td>\n",
       "      <td>5</td>\n",
       "      <td>Delhi East</td>\n",
       "      <td>12.959847</td>\n",
       "      <td>1.668208</td>\n",
       "      <td>2.596872</td>\n",
       "      <td>4.817682</td>\n",
       "    </tr>\n",
       "    <tr>\n",
       "      <th>933</th>\n",
       "      <td>9.615872</td>\n",
       "      <td>Villa</td>\n",
       "      <td>5</td>\n",
       "      <td>Delhi East</td>\n",
       "      <td>12.950390</td>\n",
       "      <td>1.668208</td>\n",
       "      <td>2.596872</td>\n",
       "      <td>4.817682</td>\n",
       "    </tr>\n",
       "    <tr>\n",
       "      <th>971</th>\n",
       "      <td>9.667829</td>\n",
       "      <td>Villa</td>\n",
       "      <td>5</td>\n",
       "      <td>Delhi East</td>\n",
       "      <td>12.994532</td>\n",
       "      <td>1.668208</td>\n",
       "      <td>2.596872</td>\n",
       "      <td>4.817682</td>\n",
       "    </tr>\n",
       "    <tr>\n",
       "      <th>...</th>\n",
       "      <td>...</td>\n",
       "      <td>...</td>\n",
       "      <td>...</td>\n",
       "      <td>...</td>\n",
       "      <td>...</td>\n",
       "      <td>...</td>\n",
       "      <td>...</td>\n",
       "      <td>...</td>\n",
       "    </tr>\n",
       "    <tr>\n",
       "      <th>17384</th>\n",
       "      <td>6.746412</td>\n",
       "      <td>Independent House</td>\n",
       "      <td>1</td>\n",
       "      <td>South West Delhi</td>\n",
       "      <td>9.210440</td>\n",
       "      <td>1.622124</td>\n",
       "      <td>2.264210</td>\n",
       "      <td>4.211682</td>\n",
       "    </tr>\n",
       "    <tr>\n",
       "      <th>17385</th>\n",
       "      <td>4.948760</td>\n",
       "      <td>Apartment</td>\n",
       "      <td>1</td>\n",
       "      <td>South West Delhi</td>\n",
       "      <td>8.779711</td>\n",
       "      <td>1.744115</td>\n",
       "      <td>2.246643</td>\n",
       "      <td>4.251925</td>\n",
       "    </tr>\n",
       "    <tr>\n",
       "      <th>17386</th>\n",
       "      <td>4.948760</td>\n",
       "      <td>Apartment</td>\n",
       "      <td>1</td>\n",
       "      <td>South West Delhi</td>\n",
       "      <td>8.853808</td>\n",
       "      <td>1.750247</td>\n",
       "      <td>2.242863</td>\n",
       "      <td>4.248121</td>\n",
       "    </tr>\n",
       "    <tr>\n",
       "      <th>17387</th>\n",
       "      <td>4.948760</td>\n",
       "      <td>Apartment</td>\n",
       "      <td>1</td>\n",
       "      <td>South West Delhi</td>\n",
       "      <td>8.699681</td>\n",
       "      <td>1.750247</td>\n",
       "      <td>2.242863</td>\n",
       "      <td>4.248121</td>\n",
       "    </tr>\n",
       "    <tr>\n",
       "      <th>17388</th>\n",
       "      <td>5.638355</td>\n",
       "      <td>Apartment</td>\n",
       "      <td>1</td>\n",
       "      <td>South West Delhi</td>\n",
       "      <td>8.779711</td>\n",
       "      <td>1.634934</td>\n",
       "      <td>2.251350</td>\n",
       "      <td>4.189703</td>\n",
       "    </tr>\n",
       "  </tbody>\n",
       "</table>\n",
       "<p>1622 rows × 8 columns</p>\n",
       "</div>"
      ],
      "text/plain": [
       "       size_sq_ft       propertyType  bedrooms        suburbName      price  \\\n",
       "930      9.680406  Independent House         5        Delhi East  13.017005   \n",
       "931      9.305741              Villa         5        Delhi East  12.936036   \n",
       "932      9.680406              Villa         5        Delhi East  12.959847   \n",
       "933      9.615872              Villa         5        Delhi East  12.950390   \n",
       "971      9.667829              Villa         5        Delhi East  12.994532   \n",
       "...           ...                ...       ...               ...        ...   \n",
       "17384    6.746412  Independent House         1  South West Delhi   9.210440   \n",
       "17385    4.948760          Apartment         1  South West Delhi   8.779711   \n",
       "17386    4.948760          Apartment         1  South West Delhi   8.853808   \n",
       "17387    4.948760          Apartment         1  South West Delhi   8.699681   \n",
       "17388    5.638355          Apartment         1  South West Delhi   8.779711   \n",
       "\n",
       "       AP_dist_km  Aiims_dist_km  NDRLW_dist_km  \n",
       "930      1.668208       2.596872       4.817682  \n",
       "931      1.668208       2.596872       4.817682  \n",
       "932      1.668208       2.596872       4.817682  \n",
       "933      1.668208       2.596872       4.817682  \n",
       "971      1.668208       2.596872       4.817682  \n",
       "...           ...            ...            ...  \n",
       "17384    1.622124       2.264210       4.211682  \n",
       "17385    1.744115       2.246643       4.251925  \n",
       "17386    1.750247       2.242863       4.248121  \n",
       "17387    1.750247       2.242863       4.248121  \n",
       "17388    1.634934       2.251350       4.189703  \n",
       "\n",
       "[1622 rows x 8 columns]"
      ]
     },
     "execution_count": 62,
     "metadata": {},
     "output_type": "execute_result"
    }
   ],
   "source": [
    "df[(df['AP_dist_km']<lower_limit)|(df['AP_dist_km']>upper_limit)]"
   ]
  },
  {
   "cell_type": "code",
   "execution_count": 63,
   "id": "2fe74037-c487-4fa7-aa1b-7220421b350e",
   "metadata": {},
   "outputs": [
    {
     "name": "stdout",
     "output_type": "stream",
     "text": [
      "0.8716343455973927\n",
      "6.399906011622747\n"
     ]
    }
   ],
   "source": [
    "q1 = df['NDRLW_dist_km'].quantile(0.25)\n",
    "q3 = df['NDRLW_dist_km'].quantile(0.75)\n",
    "\n",
    "IQR = q3 - q1\n",
    "\n",
    "lower_limit = q1 - ( 1.5 * IQR)\n",
    "upper_limit = q3 + ( 1.5 * IQR)\n",
    "\n",
    "print(lower_limit)\n",
    "print(upper_limit)\n",
    "\n"
   ]
  },
  {
   "cell_type": "code",
   "execution_count": 64,
   "id": "abe6ed78-a66c-4a67-9bc9-245af4a43197",
   "metadata": {},
   "outputs": [
    {
     "data": {
      "text/html": [
       "<div>\n",
       "<style scoped>\n",
       "    .dataframe tbody tr th:only-of-type {\n",
       "        vertical-align: middle;\n",
       "    }\n",
       "\n",
       "    .dataframe tbody tr th {\n",
       "        vertical-align: top;\n",
       "    }\n",
       "\n",
       "    .dataframe thead th {\n",
       "        text-align: right;\n",
       "    }\n",
       "</style>\n",
       "<table border=\"1\" class=\"dataframe\">\n",
       "  <thead>\n",
       "    <tr style=\"text-align: right;\">\n",
       "      <th></th>\n",
       "      <th>size_sq_ft</th>\n",
       "      <th>propertyType</th>\n",
       "      <th>bedrooms</th>\n",
       "      <th>suburbName</th>\n",
       "      <th>price</th>\n",
       "      <th>AP_dist_km</th>\n",
       "      <th>Aiims_dist_km</th>\n",
       "      <th>NDRLW_dist_km</th>\n",
       "    </tr>\n",
       "  </thead>\n",
       "  <tbody>\n",
       "    <tr>\n",
       "      <th>894</th>\n",
       "      <td>6.329721</td>\n",
       "      <td>Independent Floor</td>\n",
       "      <td>2</td>\n",
       "      <td>Delhi East</td>\n",
       "      <td>9.433564</td>\n",
       "      <td>2.854297</td>\n",
       "      <td>2.171279</td>\n",
       "      <td>-0.190368</td>\n",
       "    </tr>\n",
       "    <tr>\n",
       "      <th>903</th>\n",
       "      <td>6.329721</td>\n",
       "      <td>Independent Floor</td>\n",
       "      <td>2</td>\n",
       "      <td>Delhi East</td>\n",
       "      <td>9.392745</td>\n",
       "      <td>2.854297</td>\n",
       "      <td>2.171279</td>\n",
       "      <td>-0.190368</td>\n",
       "    </tr>\n",
       "    <tr>\n",
       "      <th>906</th>\n",
       "      <td>6.249975</td>\n",
       "      <td>Independent Floor</td>\n",
       "      <td>2</td>\n",
       "      <td>Delhi East</td>\n",
       "      <td>9.472782</td>\n",
       "      <td>2.854297</td>\n",
       "      <td>2.171279</td>\n",
       "      <td>-0.190368</td>\n",
       "    </tr>\n",
       "    <tr>\n",
       "      <th>1215</th>\n",
       "      <td>5.993961</td>\n",
       "      <td>Apartment</td>\n",
       "      <td>1</td>\n",
       "      <td>Delhi East</td>\n",
       "      <td>8.853808</td>\n",
       "      <td>2.854297</td>\n",
       "      <td>2.171279</td>\n",
       "      <td>-0.190368</td>\n",
       "    </tr>\n",
       "    <tr>\n",
       "      <th>11893</th>\n",
       "      <td>8.853808</td>\n",
       "      <td>Independent House</td>\n",
       "      <td>6</td>\n",
       "      <td>Delhi Central</td>\n",
       "      <td>13.592368</td>\n",
       "      <td>2.858229</td>\n",
       "      <td>2.165774</td>\n",
       "      <td>-0.039615</td>\n",
       "    </tr>\n",
       "    <tr>\n",
       "      <th>...</th>\n",
       "      <td>...</td>\n",
       "      <td>...</td>\n",
       "      <td>...</td>\n",
       "      <td>...</td>\n",
       "      <td>...</td>\n",
       "      <td>...</td>\n",
       "      <td>...</td>\n",
       "      <td>...</td>\n",
       "    </tr>\n",
       "    <tr>\n",
       "      <th>17191</th>\n",
       "      <td>6.685861</td>\n",
       "      <td>Apartment</td>\n",
       "      <td>2</td>\n",
       "      <td>Other</td>\n",
       "      <td>9.105091</td>\n",
       "      <td>5.983698</td>\n",
       "      <td>5.960697</td>\n",
       "      <td>17.849566</td>\n",
       "    </tr>\n",
       "    <tr>\n",
       "      <th>17220</th>\n",
       "      <td>5.968708</td>\n",
       "      <td>Independent Floor</td>\n",
       "      <td>1</td>\n",
       "      <td>Other</td>\n",
       "      <td>9.105091</td>\n",
       "      <td>2.826748</td>\n",
       "      <td>2.310376</td>\n",
       "      <td>0.441919</td>\n",
       "    </tr>\n",
       "    <tr>\n",
       "      <th>17267</th>\n",
       "      <td>6.685861</td>\n",
       "      <td>Apartment</td>\n",
       "      <td>2</td>\n",
       "      <td>Other</td>\n",
       "      <td>9.105091</td>\n",
       "      <td>5.984045</td>\n",
       "      <td>5.961047</td>\n",
       "      <td>17.851863</td>\n",
       "    </tr>\n",
       "    <tr>\n",
       "      <th>17277</th>\n",
       "      <td>6.552508</td>\n",
       "      <td>Apartment</td>\n",
       "      <td>2</td>\n",
       "      <td>Other</td>\n",
       "      <td>8.853808</td>\n",
       "      <td>5.984045</td>\n",
       "      <td>5.961047</td>\n",
       "      <td>17.851863</td>\n",
       "    </tr>\n",
       "    <tr>\n",
       "      <th>17627</th>\n",
       "      <td>7.378384</td>\n",
       "      <td>Apartment</td>\n",
       "      <td>2</td>\n",
       "      <td>Delhi West</td>\n",
       "      <td>9.680406</td>\n",
       "      <td>2.790050</td>\n",
       "      <td>2.284196</td>\n",
       "      <td>0.727085</td>\n",
       "    </tr>\n",
       "  </tbody>\n",
       "</table>\n",
       "<p>209 rows × 8 columns</p>\n",
       "</div>"
      ],
      "text/plain": [
       "       size_sq_ft       propertyType  bedrooms     suburbName      price  \\\n",
       "894      6.329721  Independent Floor         2     Delhi East   9.433564   \n",
       "903      6.329721  Independent Floor         2     Delhi East   9.392745   \n",
       "906      6.249975  Independent Floor         2     Delhi East   9.472782   \n",
       "1215     5.993961          Apartment         1     Delhi East   8.853808   \n",
       "11893    8.853808  Independent House         6  Delhi Central  13.592368   \n",
       "...           ...                ...       ...            ...        ...   \n",
       "17191    6.685861          Apartment         2          Other   9.105091   \n",
       "17220    5.968708  Independent Floor         1          Other   9.105091   \n",
       "17267    6.685861          Apartment         2          Other   9.105091   \n",
       "17277    6.552508          Apartment         2          Other   8.853808   \n",
       "17627    7.378384          Apartment         2     Delhi West   9.680406   \n",
       "\n",
       "       AP_dist_km  Aiims_dist_km  NDRLW_dist_km  \n",
       "894      2.854297       2.171279      -0.190368  \n",
       "903      2.854297       2.171279      -0.190368  \n",
       "906      2.854297       2.171279      -0.190368  \n",
       "1215     2.854297       2.171279      -0.190368  \n",
       "11893    2.858229       2.165774      -0.039615  \n",
       "...           ...            ...            ...  \n",
       "17191    5.983698       5.960697      17.849566  \n",
       "17220    2.826748       2.310376       0.441919  \n",
       "17267    5.984045       5.961047      17.851863  \n",
       "17277    5.984045       5.961047      17.851863  \n",
       "17627    2.790050       2.284196       0.727085  \n",
       "\n",
       "[209 rows x 8 columns]"
      ]
     },
     "execution_count": 64,
     "metadata": {},
     "output_type": "execute_result"
    }
   ],
   "source": [
    "df[(df['NDRLW_dist_km']<lower_limit)|(df['NDRLW_dist_km']>upper_limit)]\n"
   ]
  },
  {
   "cell_type": "code",
   "execution_count": 65,
   "id": "7c1ac4da-dc9e-4500-9800-a0ada98e16c9",
   "metadata": {},
   "outputs": [],
   "source": [
    "df.drop(index = df[df['NDRLW_dist_km']<0].index,inplace= True)"
   ]
  },
  {
   "cell_type": "code",
   "execution_count": 66,
   "id": "bde6d911-7d10-4360-8d4b-70676eb8132e",
   "metadata": {},
   "outputs": [
    {
     "data": {
      "text/html": [
       "<div>\n",
       "<style scoped>\n",
       "    .dataframe tbody tr th:only-of-type {\n",
       "        vertical-align: middle;\n",
       "    }\n",
       "\n",
       "    .dataframe tbody tr th {\n",
       "        vertical-align: top;\n",
       "    }\n",
       "\n",
       "    .dataframe thead th {\n",
       "        text-align: right;\n",
       "    }\n",
       "</style>\n",
       "<table border=\"1\" class=\"dataframe\">\n",
       "  <thead>\n",
       "    <tr style=\"text-align: right;\">\n",
       "      <th></th>\n",
       "      <th>size_sq_ft</th>\n",
       "      <th>propertyType</th>\n",
       "      <th>bedrooms</th>\n",
       "      <th>suburbName</th>\n",
       "      <th>price</th>\n",
       "      <th>AP_dist_km</th>\n",
       "      <th>Aiims_dist_km</th>\n",
       "      <th>NDRLW_dist_km</th>\n",
       "    </tr>\n",
       "  </thead>\n",
       "  <tbody>\n",
       "  </tbody>\n",
       "</table>\n",
       "</div>"
      ],
      "text/plain": [
       "Empty DataFrame\n",
       "Columns: [size_sq_ft, propertyType, bedrooms, suburbName, price, AP_dist_km, Aiims_dist_km, NDRLW_dist_km]\n",
       "Index: []"
      ]
     },
     "execution_count": 66,
     "metadata": {},
     "output_type": "execute_result"
    }
   ],
   "source": [
    " df[df['NDRLW_dist_km']<0]"
   ]
  },
  {
   "cell_type": "code",
   "execution_count": 67,
   "id": "e25b1e54-6270-4364-bf4b-02afded0d717",
   "metadata": {},
   "outputs": [
    {
     "data": {
      "text/plain": [
       "(17705, 8)"
      ]
     },
     "execution_count": 67,
     "metadata": {},
     "output_type": "execute_result"
    }
   ],
   "source": [
    "df.shape"
   ]
  },
  {
   "cell_type": "code",
   "execution_count": 68,
   "id": "add17086-4a8c-439d-8e9d-594eaa7df4a5",
   "metadata": {},
   "outputs": [
    {
     "data": {
      "image/png": "[encoded data removed]",
      "text/plain": [
       "<Figure size 640x480 with 1 Axes>"
      ]
     },
     "metadata": {},
     "output_type": "display_data"
    },
    {
     "data": {
      "image/png": "[encoded data removed]",
      "text/plain": [
       "<Figure size 640x480 with 1 Axes>"
      ]
     },
     "metadata": {},
     "output_type": "display_data"
    },
    {
     "data": {
      "image/png": "[encoded data removed]",
      "text/plain": [
       "<Figure size 640x480 with 1 Axes>"
      ]
     },
     "metadata": {},
     "output_type": "display_data"
    },
    {
     "data": {
      "image/png": "[encoded data removed]",
      "text/plain": [
       "<Figure size 640x480 with 1 Axes>"
      ]
     },
     "metadata": {},
     "output_type": "display_data"
    },
    {
     "data": {
      "image/png": "[encoded data removed]",
      "text/plain": [
       "<Figure size 640x480 with 1 Axes>"
      ]
     },
     "metadata": {},
     "output_type": "display_data"
    }
   ],
   "source": [
    "for i in continous:\n",
    "    sns.histplot(df[i], bins = 7, kde = True)\n",
    "    plt.show()"
   ]
  },
  {
   "cell_type": "markdown",
   "id": "621eacde-1d88-47cf-ae79-6e077f59b53e",
   "metadata": {},
   "source": [
    "**After removing skewness now data is normally distributed**"
   ]
  },
  {
   "cell_type": "code",
   "execution_count": 69,
   "id": "0d8507b1-ee5f-42b0-91ce-a1e3b70e659d",
   "metadata": {},
   "outputs": [
    {
     "data": {
      "image/png": "[encoded data removed]",
      "text/plain": [
       "<Figure size 640x480 with 1 Axes>"
      ]
     },
     "metadata": {},
     "output_type": "display_data"
    }
   ],
   "source": [
    "for i in count:\n",
    "    sns.countplot(x = df[i])\n",
    "    plt.show()"
   ]
  },
  {
   "cell_type": "markdown",
   "id": "b33af41c-70d1-4172-b5e0-cfad614100a5",
   "metadata": {},
   "source": [
    "- nearly 1,2,3,4,,bedrooms are common\n",
    "- most of the people selecting maximum 2 or 3 bedrooms"
   ]
  },
  {
   "cell_type": "code",
   "execution_count": 70,
   "id": "f25c42d9-408a-419e-9484-9082ee043121",
   "metadata": {},
   "outputs": [
    {
     "name": "stdout",
     "output_type": "stream",
     "text": [
      "propertyType\n",
      "Independent Floor    11092\n",
      "Apartment             5668\n",
      "Independent House      894\n",
      "Villa                   51\n",
      "Name: count, dtype: int64\n",
      "=================================================\n",
      "suburbName\n",
      "Delhi South         3749\n",
      "Delhi Central       2724\n",
      "Other               2533\n",
      "Dwarka              2435\n",
      "West Delhi          2222\n",
      "Delhi East          1929\n",
      "North Delhi         1252\n",
      "Delhi West           314\n",
      "Rohini               274\n",
      "Delhi North          176\n",
      "South West Delhi      86\n",
      "North West Delhi      11\n",
      "Name: count, dtype: int64\n",
      "=================================================\n"
     ]
    }
   ],
   "source": [
    "for i in categorical:\n",
    "    print(df[i].value_counts())\n",
    "    print(\"=================================================\")"
   ]
  },
  {
   "cell_type": "markdown",
   "id": "1b48c421-5531-4170-bec5-0a772b13eb84",
   "metadata": {},
   "source": [
    "# Encoding"
   ]
  },
  {
   "cell_type": "code",
   "execution_count": 71,
   "id": "9e4e8855-b47a-4e78-bd4c-01694857cba1",
   "metadata": {},
   "outputs": [
    {
     "name": "stdout",
     "output_type": "stream",
     "text": [
      "Label Encoding Mapping: {'Apartment': 0, 'Independent Floor': 1, 'Independent House': 2, 'Villa': 3}\n"
     ]
    }
   ],
   "source": [
    "from sklearn.preprocessing import LabelEncoder\n",
    "le = LabelEncoder()\n",
    "df['propertyType'] = le.fit_transform(df['propertyType'])\n",
    "encoding_mapping = dict(zip(le.classes_, le.transform(le.classes_)))\n",
    "print(\"Label Encoding Mapping:\", encoding_mapping)\n",
    "\n",
    "# after creating new column drop this column\n",
    "#df.drop(columns = ['propertyType'], inplace = True)"
   ]
  },
  {
   "cell_type": "code",
   "execution_count": 72,
   "id": "fa7cf8fe-6613-4d5d-9d29-bd2a93b80c32",
   "metadata": {},
   "outputs": [
    {
     "data": {
      "text/html": [
       "<div>\n",
       "<style scoped>\n",
       "    .dataframe tbody tr th:only-of-type {\n",
       "        vertical-align: middle;\n",
       "    }\n",
       "\n",
       "    .dataframe tbody tr th {\n",
       "        vertical-align: top;\n",
       "    }\n",
       "\n",
       "    .dataframe thead th {\n",
       "        text-align: right;\n",
       "    }\n",
       "</style>\n",
       "<table border=\"1\" class=\"dataframe\">\n",
       "  <thead>\n",
       "    <tr style=\"text-align: right;\">\n",
       "      <th></th>\n",
       "      <th>size_sq_ft</th>\n",
       "      <th>propertyType</th>\n",
       "      <th>bedrooms</th>\n",
       "      <th>price</th>\n",
       "      <th>AP_dist_km</th>\n",
       "      <th>Aiims_dist_km</th>\n",
       "      <th>NDRLW_dist_km</th>\n",
       "      <th>suburb_Delhi Central</th>\n",
       "      <th>suburb_Delhi East</th>\n",
       "      <th>suburb_Delhi North</th>\n",
       "      <th>suburb_Delhi South</th>\n",
       "      <th>suburb_Delhi West</th>\n",
       "      <th>suburb_Dwarka</th>\n",
       "      <th>suburb_North Delhi</th>\n",
       "      <th>suburb_North West Delhi</th>\n",
       "      <th>suburb_Other</th>\n",
       "      <th>suburb_Rohini</th>\n",
       "      <th>suburb_South West Delhi</th>\n",
       "      <th>suburb_West Delhi</th>\n",
       "    </tr>\n",
       "  </thead>\n",
       "  <tbody>\n",
       "    <tr>\n",
       "      <th>0</th>\n",
       "      <td>5.993961</td>\n",
       "      <td>1</td>\n",
       "      <td>1</td>\n",
       "      <td>9.105091</td>\n",
       "      <td>3.124178</td>\n",
       "      <td>2.494794</td>\n",
       "      <td>2.481289</td>\n",
       "      <td>False</td>\n",
       "      <td>True</td>\n",
       "      <td>False</td>\n",
       "      <td>False</td>\n",
       "      <td>False</td>\n",
       "      <td>False</td>\n",
       "      <td>False</td>\n",
       "      <td>False</td>\n",
       "      <td>False</td>\n",
       "      <td>False</td>\n",
       "      <td>False</td>\n",
       "      <td>False</td>\n",
       "    </tr>\n",
       "    <tr>\n",
       "      <th>1</th>\n",
       "      <td>6.957497</td>\n",
       "      <td>0</td>\n",
       "      <td>2</td>\n",
       "      <td>9.903538</td>\n",
       "      <td>3.109144</td>\n",
       "      <td>2.343637</td>\n",
       "      <td>3.228757</td>\n",
       "      <td>False</td>\n",
       "      <td>True</td>\n",
       "      <td>False</td>\n",
       "      <td>False</td>\n",
       "      <td>False</td>\n",
       "      <td>False</td>\n",
       "      <td>False</td>\n",
       "      <td>False</td>\n",
       "      <td>False</td>\n",
       "      <td>False</td>\n",
       "      <td>False</td>\n",
       "      <td>False</td>\n",
       "    </tr>\n",
       "    <tr>\n",
       "      <th>2</th>\n",
       "      <td>7.719130</td>\n",
       "      <td>1</td>\n",
       "      <td>2</td>\n",
       "      <td>10.239996</td>\n",
       "      <td>3.162109</td>\n",
       "      <td>2.551746</td>\n",
       "      <td>2.736483</td>\n",
       "      <td>False</td>\n",
       "      <td>True</td>\n",
       "      <td>False</td>\n",
       "      <td>False</td>\n",
       "      <td>False</td>\n",
       "      <td>False</td>\n",
       "      <td>False</td>\n",
       "      <td>False</td>\n",
       "      <td>False</td>\n",
       "      <td>False</td>\n",
       "      <td>False</td>\n",
       "      <td>False</td>\n",
       "    </tr>\n",
       "    <tr>\n",
       "      <th>3</th>\n",
       "      <td>7.208600</td>\n",
       "      <td>1</td>\n",
       "      <td>2</td>\n",
       "      <td>10.239996</td>\n",
       "      <td>3.164682</td>\n",
       "      <td>2.563618</td>\n",
       "      <td>2.720278</td>\n",
       "      <td>False</td>\n",
       "      <td>True</td>\n",
       "      <td>False</td>\n",
       "      <td>False</td>\n",
       "      <td>False</td>\n",
       "      <td>False</td>\n",
       "      <td>False</td>\n",
       "      <td>False</td>\n",
       "      <td>False</td>\n",
       "      <td>False</td>\n",
       "      <td>False</td>\n",
       "      <td>False</td>\n",
       "    </tr>\n",
       "    <tr>\n",
       "      <th>4</th>\n",
       "      <td>6.111467</td>\n",
       "      <td>0</td>\n",
       "      <td>2</td>\n",
       "      <td>9.433564</td>\n",
       "      <td>3.160942</td>\n",
       "      <td>2.448552</td>\n",
       "      <td>3.450400</td>\n",
       "      <td>False</td>\n",
       "      <td>True</td>\n",
       "      <td>False</td>\n",
       "      <td>False</td>\n",
       "      <td>False</td>\n",
       "      <td>False</td>\n",
       "      <td>False</td>\n",
       "      <td>False</td>\n",
       "      <td>False</td>\n",
       "      <td>False</td>\n",
       "      <td>False</td>\n",
       "      <td>False</td>\n",
       "    </tr>\n",
       "  </tbody>\n",
       "</table>\n",
       "</div>"
      ],
      "text/plain": [
       "   size_sq_ft  propertyType  bedrooms      price  AP_dist_km  Aiims_dist_km  \\\n",
       "0    5.993961             1         1   9.105091    3.124178       2.494794   \n",
       "1    6.957497             0         2   9.903538    3.109144       2.343637   \n",
       "2    7.719130             1         2  10.239996    3.162109       2.551746   \n",
       "3    7.208600             1         2  10.239996    3.164682       2.563618   \n",
       "4    6.111467             0         2   9.433564    3.160942       2.448552   \n",
       "\n",
       "   NDRLW_dist_km  suburb_Delhi Central  suburb_Delhi East  suburb_Delhi North  \\\n",
       "0       2.481289                 False               True               False   \n",
       "1       3.228757                 False               True               False   \n",
       "2       2.736483                 False               True               False   \n",
       "3       2.720278                 False               True               False   \n",
       "4       3.450400                 False               True               False   \n",
       "\n",
       "   suburb_Delhi South  suburb_Delhi West  suburb_Dwarka  suburb_North Delhi  \\\n",
       "0               False              False          False               False   \n",
       "1               False              False          False               False   \n",
       "2               False              False          False               False   \n",
       "3               False              False          False               False   \n",
       "4               False              False          False               False   \n",
       "\n",
       "   suburb_North West Delhi  suburb_Other  suburb_Rohini  \\\n",
       "0                    False         False          False   \n",
       "1                    False         False          False   \n",
       "2                    False         False          False   \n",
       "3                    False         False          False   \n",
       "4                    False         False          False   \n",
       "\n",
       "   suburb_South West Delhi  suburb_West Delhi  \n",
       "0                    False              False  \n",
       "1                    False              False  \n",
       "2                    False              False  \n",
       "3                    False              False  \n",
       "4                    False              False  "
      ]
     },
     "execution_count": 72,
     "metadata": {},
     "output_type": "execute_result"
    }
   ],
   "source": [
    "# One-Hot Encoding\n",
    "df = pd.get_dummies(df, columns=['suburbName'], prefix='suburb', drop_first=False)\n",
    "\n",
    "# Display the first few rows\n",
    "df.head()\n"
   ]
  },
  {
   "cell_type": "markdown",
   "id": "1bf9e287-b317-4006-b116-56a3d7cf297a",
   "metadata": {},
   "source": [
    "Now input variables are normally distributed\n",
    "- No null values\n",
    "- no missing values\n",
    "- now this data is completely ready for Regression but first check colinearity, Homoscedasticity"
   ]
  },
  {
   "cell_type": "markdown",
   "id": "c05b667f-f8b4-449c-9183-afb813938bc6",
   "metadata": {},
   "source": [
    "# checking colinearity problem\n",
    "\n",
    "only in input variables"
   ]
  },
  {
   "cell_type": "code",
   "execution_count": 73,
   "id": "2a13fb03-9500-456c-8a8d-68e61de7558b",
   "metadata": {},
   "outputs": [
    {
     "data": {
      "text/html": [
       "<div>\n",
       "<style scoped>\n",
       "    .dataframe tbody tr th:only-of-type {\n",
       "        vertical-align: middle;\n",
       "    }\n",
       "\n",
       "    .dataframe tbody tr th {\n",
       "        vertical-align: top;\n",
       "    }\n",
       "\n",
       "    .dataframe thead th {\n",
       "        text-align: right;\n",
       "    }\n",
       "</style>\n",
       "<table border=\"1\" class=\"dataframe\">\n",
       "  <thead>\n",
       "    <tr style=\"text-align: right;\">\n",
       "      <th></th>\n",
       "      <th>size_sq_ft</th>\n",
       "      <th>propertyType</th>\n",
       "      <th>bedrooms</th>\n",
       "      <th>price</th>\n",
       "      <th>AP_dist_km</th>\n",
       "      <th>Aiims_dist_km</th>\n",
       "      <th>NDRLW_dist_km</th>\n",
       "      <th>suburb_Delhi Central</th>\n",
       "      <th>suburb_Delhi East</th>\n",
       "      <th>suburb_Delhi North</th>\n",
       "      <th>suburb_Delhi South</th>\n",
       "      <th>suburb_Delhi West</th>\n",
       "      <th>suburb_Dwarka</th>\n",
       "      <th>suburb_North Delhi</th>\n",
       "      <th>suburb_North West Delhi</th>\n",
       "      <th>suburb_Other</th>\n",
       "      <th>suburb_Rohini</th>\n",
       "      <th>suburb_South West Delhi</th>\n",
       "      <th>suburb_West Delhi</th>\n",
       "    </tr>\n",
       "  </thead>\n",
       "  <tbody>\n",
       "    <tr>\n",
       "      <th>0</th>\n",
       "      <td>5.993961</td>\n",
       "      <td>1</td>\n",
       "      <td>1</td>\n",
       "      <td>9.105091</td>\n",
       "      <td>3.124178</td>\n",
       "      <td>2.494794</td>\n",
       "      <td>2.481289</td>\n",
       "      <td>False</td>\n",
       "      <td>True</td>\n",
       "      <td>False</td>\n",
       "      <td>False</td>\n",
       "      <td>False</td>\n",
       "      <td>False</td>\n",
       "      <td>False</td>\n",
       "      <td>False</td>\n",
       "      <td>False</td>\n",
       "      <td>False</td>\n",
       "      <td>False</td>\n",
       "      <td>False</td>\n",
       "    </tr>\n",
       "    <tr>\n",
       "      <th>1</th>\n",
       "      <td>6.957497</td>\n",
       "      <td>0</td>\n",
       "      <td>2</td>\n",
       "      <td>9.903538</td>\n",
       "      <td>3.109144</td>\n",
       "      <td>2.343637</td>\n",
       "      <td>3.228757</td>\n",
       "      <td>False</td>\n",
       "      <td>True</td>\n",
       "      <td>False</td>\n",
       "      <td>False</td>\n",
       "      <td>False</td>\n",
       "      <td>False</td>\n",
       "      <td>False</td>\n",
       "      <td>False</td>\n",
       "      <td>False</td>\n",
       "      <td>False</td>\n",
       "      <td>False</td>\n",
       "      <td>False</td>\n",
       "    </tr>\n",
       "    <tr>\n",
       "      <th>2</th>\n",
       "      <td>7.719130</td>\n",
       "      <td>1</td>\n",
       "      <td>2</td>\n",
       "      <td>10.239996</td>\n",
       "      <td>3.162109</td>\n",
       "      <td>2.551746</td>\n",
       "      <td>2.736483</td>\n",
       "      <td>False</td>\n",
       "      <td>True</td>\n",
       "      <td>False</td>\n",
       "      <td>False</td>\n",
       "      <td>False</td>\n",
       "      <td>False</td>\n",
       "      <td>False</td>\n",
       "      <td>False</td>\n",
       "      <td>False</td>\n",
       "      <td>False</td>\n",
       "      <td>False</td>\n",
       "      <td>False</td>\n",
       "    </tr>\n",
       "    <tr>\n",
       "      <th>3</th>\n",
       "      <td>7.208600</td>\n",
       "      <td>1</td>\n",
       "      <td>2</td>\n",
       "      <td>10.239996</td>\n",
       "      <td>3.164682</td>\n",
       "      <td>2.563618</td>\n",
       "      <td>2.720278</td>\n",
       "      <td>False</td>\n",
       "      <td>True</td>\n",
       "      <td>False</td>\n",
       "      <td>False</td>\n",
       "      <td>False</td>\n",
       "      <td>False</td>\n",
       "      <td>False</td>\n",
       "      <td>False</td>\n",
       "      <td>False</td>\n",
       "      <td>False</td>\n",
       "      <td>False</td>\n",
       "      <td>False</td>\n",
       "    </tr>\n",
       "    <tr>\n",
       "      <th>4</th>\n",
       "      <td>6.111467</td>\n",
       "      <td>0</td>\n",
       "      <td>2</td>\n",
       "      <td>9.433564</td>\n",
       "      <td>3.160942</td>\n",
       "      <td>2.448552</td>\n",
       "      <td>3.450400</td>\n",
       "      <td>False</td>\n",
       "      <td>True</td>\n",
       "      <td>False</td>\n",
       "      <td>False</td>\n",
       "      <td>False</td>\n",
       "      <td>False</td>\n",
       "      <td>False</td>\n",
       "      <td>False</td>\n",
       "      <td>False</td>\n",
       "      <td>False</td>\n",
       "      <td>False</td>\n",
       "      <td>False</td>\n",
       "    </tr>\n",
       "  </tbody>\n",
       "</table>\n",
       "</div>"
      ],
      "text/plain": [
       "   size_sq_ft  propertyType  bedrooms      price  AP_dist_km  Aiims_dist_km  \\\n",
       "0    5.993961             1         1   9.105091    3.124178       2.494794   \n",
       "1    6.957497             0         2   9.903538    3.109144       2.343637   \n",
       "2    7.719130             1         2  10.239996    3.162109       2.551746   \n",
       "3    7.208600             1         2  10.239996    3.164682       2.563618   \n",
       "4    6.111467             0         2   9.433564    3.160942       2.448552   \n",
       "\n",
       "   NDRLW_dist_km  suburb_Delhi Central  suburb_Delhi East  suburb_Delhi North  \\\n",
       "0       2.481289                 False               True               False   \n",
       "1       3.228757                 False               True               False   \n",
       "2       2.736483                 False               True               False   \n",
       "3       2.720278                 False               True               False   \n",
       "4       3.450400                 False               True               False   \n",
       "\n",
       "   suburb_Delhi South  suburb_Delhi West  suburb_Dwarka  suburb_North Delhi  \\\n",
       "0               False              False          False               False   \n",
       "1               False              False          False               False   \n",
       "2               False              False          False               False   \n",
       "3               False              False          False               False   \n",
       "4               False              False          False               False   \n",
       "\n",
       "   suburb_North West Delhi  suburb_Other  suburb_Rohini  \\\n",
       "0                    False         False          False   \n",
       "1                    False         False          False   \n",
       "2                    False         False          False   \n",
       "3                    False         False          False   \n",
       "4                    False         False          False   \n",
       "\n",
       "   suburb_South West Delhi  suburb_West Delhi  \n",
       "0                    False              False  \n",
       "1                    False              False  \n",
       "2                    False              False  \n",
       "3                    False              False  \n",
       "4                    False              False  "
      ]
     },
     "execution_count": 73,
     "metadata": {},
     "output_type": "execute_result"
    }
   ],
   "source": [
    "df.head()"
   ]
  },
  {
   "cell_type": "code",
   "execution_count": 74,
   "id": "4efba476-8e35-4609-9a9c-98d2f6b2214d",
   "metadata": {},
   "outputs": [
    {
     "data": {
      "text/plain": [
       "<Axes: >"
      ]
     },
     "execution_count": 74,
     "metadata": {},
     "output_type": "execute_result"
    },
    {
     "data": {
      "image/png": "[encoded data removed]",
      "text/plain": [
       "<Figure size 1200x800 with 2 Axes>"
      ]
     },
     "metadata": {},
     "output_type": "display_data"
    }
   ],
   "source": [
    "plt.figure(figsize=(12, 8))\n",
    "sns.heatmap(df[continous].corr(), annot = True)"
   ]
  },
  {
   "cell_type": "code",
   "execution_count": 75,
   "id": "d88a1031-6ae3-493c-aca5-6215d965ed3b",
   "metadata": {},
   "outputs": [
    {
     "name": "stdout",
     "output_type": "stream",
     "text": [
      "\n",
      "✅ VIF Values:\n",
      "        Variable       VIF\n",
      "0     size_sq_ft  1.104469\n",
      "1     AP_dist_km  1.339876\n",
      "2  Aiims_dist_km  1.114896\n",
      "3  NDRLW_dist_km  1.409284\n"
     ]
    }
   ],
   "source": [
    "import statsmodels.formula.api as smf\n",
    "import pandas as pd\n",
    "\n",
    "# Selecting the relevant columns from the heatmap\n",
    "df_subset = df[['size_sq_ft', 'AP_dist_km', 'Aiims_dist_km', 'NDRLW_dist_km']]\n",
    "\n",
    "# Calculating R-squared and VIF for each variable\n",
    "rsq_size_sq_ft = smf.ols(\"size_sq_ft ~ AP_dist_km + Aiims_dist_km + NDRLW_dist_km\", data=df_subset).fit().rsquared\n",
    "vif_size_sq_ft = 1 / (1 - rsq_size_sq_ft)\n",
    "\n",
    "rsq_AP_dist_km = smf.ols(\"AP_dist_km ~ size_sq_ft + Aiims_dist_km + NDRLW_dist_km\", data=df_subset).fit().rsquared\n",
    "vif_AP_dist_km = 1 / (1 - rsq_AP_dist_km)\n",
    "\n",
    "rsq_Aiims_dist_km = smf.ols(\"Aiims_dist_km ~ size_sq_ft + AP_dist_km + NDRLW_dist_km\", data=df_subset).fit().rsquared\n",
    "vif_Aiims_dist_km = 1 / (1 - rsq_Aiims_dist_km)\n",
    "\n",
    "rsq_NDRLW_dist_km = smf.ols(\"NDRLW_dist_km ~ size_sq_ft + AP_dist_km + Aiims_dist_km\", data=df_subset).fit().rsquared\n",
    "vif_NDRLW_dist_km = 1 / (1 - rsq_NDRLW_dist_km)\n",
    "\n",
    "# Storing VIF values in a DataFrame\n",
    "vif_frame = pd.DataFrame({\n",
    "    'Variable': ['size_sq_ft', 'AP_dist_km', 'Aiims_dist_km', 'NDRLW_dist_km'],\n",
    "    'VIF': [vif_size_sq_ft, vif_AP_dist_km, vif_Aiims_dist_km, vif_NDRLW_dist_km]\n",
    "})\n",
    "\n",
    "# Display VIF values\n",
    "print(\"\\n✅ VIF Values:\")\n",
    "print(vif_frame)\n"
   ]
  },
  {
   "cell_type": "markdown",
   "id": "27894ee8-0c29-428e-9a04-a474cdf4a2da",
   "metadata": {},
   "source": [
    "**Interpretation of VIF Values:**\n",
    "\n",
    "- VIF = 1: No correlation between the predictor and other predictors.\n",
    "- 1 < VIF < 5: Moderate correlation; no major issue for regression.\n",
    "- VIF > 5 (or 10, depending on the threshold): High multicollinearity, meaning that the - predictor is highly correlated with other predictors, which can lead to instability in the regression model."
   ]
  },
  {
   "cell_type": "markdown",
   "id": "b8422aef-d504-4ae1-870f-32a02b86de8d",
   "metadata": {},
   "source": [
    "**Now data is ready for regression**\n",
    "\n",
    "\n",
    "# check for best random state number\n",
    "\n",
    "**X and y**"
   ]
  },
  {
   "cell_type": "code",
   "execution_count": 76,
   "id": "a3bfadb5-6018-49bb-b177-6a5d5b6d166a",
   "metadata": {},
   "outputs": [],
   "source": [
    "X = df.drop(columns = ['price'])\n",
    "y = df['price']"
   ]
  },
  {
   "cell_type": "markdown",
   "id": "88098d3e-0ca9-47ae-9e95-25e78a3ce798",
   "metadata": {},
   "source": [
    "**To identify the best random state number**"
   ]
  },
  {
   "cell_type": "code",
   "execution_count": 77,
   "id": "ad0818b0-1c73-4617-adb8-ca7f817801a6",
   "metadata": {},
   "outputs": [
    {
     "name": "stdout",
     "output_type": "stream",
     "text": [
      "Best random number is: 5\n"
     ]
    }
   ],
   "source": [
    "from sklearn.model_selection import train_test_split\n",
    "from sklearn.linear_model import LinearRegression\n",
    "from sklearn.model_selection import cross_val_score\n",
    "from sklearn.metrics import r2_score\n",
    "\n",
    "\n",
    "Train = []\n",
    "CV = []\n",
    "\n",
    "for i in range(0,10):\n",
    "    X_train, X_test, y_train, y_test = train_test_split(X, y, test_size=0.2, random_state=i)\n",
    "    model = LinearRegression()\n",
    "    model.fit(X_train, y_train)\n",
    "    \n",
    "    # Training R2 Score\n",
    "    ypred_train = model.predict(X_train)\n",
    "\n",
    "    Train.append(r2_score(y_train, ypred_train))\n",
    "\n",
    "    # Cross-validation score\n",
    "    CV.append(cross_val_score(model, X_train, y_train, cv=5).mean())\n",
    "\n",
    "        \n",
    "# Create a DataFrame after the loop\n",
    "em = pd.DataFrame({'Train': Train, 'CV': CV})\n",
    "\n",
    "# Filtering based on condition\n",
    "gm = em[abs(em['Train'] - em['CV']) <= 0.05]\n",
    "\n",
    "rs = gm[gm['CV'] == gm['CV'].max()].index.tolist()[0]\n",
    "print(\"Best random number is:\", rs)\n"
   ]
  },
  {
   "cell_type": "markdown",
   "id": "5ffd9cbe-2343-406c-bddd-d61fbff241c5",
   "metadata": {},
   "source": [
    "# Best random number is: 5"
   ]
  },
  {
   "cell_type": "code",
   "execution_count": 78,
   "id": "0336a69b-2dd9-4b3d-9eb1-2a641297298a",
   "metadata": {},
   "outputs": [
    {
     "data": {
      "text/html": [
       "<div>\n",
       "<style scoped>\n",
       "    .dataframe tbody tr th:only-of-type {\n",
       "        vertical-align: middle;\n",
       "    }\n",
       "\n",
       "    .dataframe tbody tr th {\n",
       "        vertical-align: top;\n",
       "    }\n",
       "\n",
       "    .dataframe thead th {\n",
       "        text-align: right;\n",
       "    }\n",
       "</style>\n",
       "<table border=\"1\" class=\"dataframe\">\n",
       "  <thead>\n",
       "    <tr style=\"text-align: right;\">\n",
       "      <th></th>\n",
       "      <th>size_sq_ft</th>\n",
       "      <th>propertyType</th>\n",
       "      <th>bedrooms</th>\n",
       "      <th>price</th>\n",
       "      <th>AP_dist_km</th>\n",
       "      <th>Aiims_dist_km</th>\n",
       "      <th>NDRLW_dist_km</th>\n",
       "      <th>suburb_Delhi Central</th>\n",
       "      <th>suburb_Delhi East</th>\n",
       "      <th>suburb_Delhi North</th>\n",
       "      <th>suburb_Delhi South</th>\n",
       "      <th>suburb_Delhi West</th>\n",
       "      <th>suburb_Dwarka</th>\n",
       "      <th>suburb_North Delhi</th>\n",
       "      <th>suburb_North West Delhi</th>\n",
       "      <th>suburb_Other</th>\n",
       "      <th>suburb_Rohini</th>\n",
       "      <th>suburb_South West Delhi</th>\n",
       "      <th>suburb_West Delhi</th>\n",
       "    </tr>\n",
       "  </thead>\n",
       "  <tbody>\n",
       "    <tr>\n",
       "      <th>0</th>\n",
       "      <td>5.993961</td>\n",
       "      <td>1</td>\n",
       "      <td>1</td>\n",
       "      <td>9.105091</td>\n",
       "      <td>3.124178</td>\n",
       "      <td>2.494794</td>\n",
       "      <td>2.481289</td>\n",
       "      <td>False</td>\n",
       "      <td>True</td>\n",
       "      <td>False</td>\n",
       "      <td>False</td>\n",
       "      <td>False</td>\n",
       "      <td>False</td>\n",
       "      <td>False</td>\n",
       "      <td>False</td>\n",
       "      <td>False</td>\n",
       "      <td>False</td>\n",
       "      <td>False</td>\n",
       "      <td>False</td>\n",
       "    </tr>\n",
       "    <tr>\n",
       "      <th>1</th>\n",
       "      <td>6.957497</td>\n",
       "      <td>0</td>\n",
       "      <td>2</td>\n",
       "      <td>9.903538</td>\n",
       "      <td>3.109144</td>\n",
       "      <td>2.343637</td>\n",
       "      <td>3.228757</td>\n",
       "      <td>False</td>\n",
       "      <td>True</td>\n",
       "      <td>False</td>\n",
       "      <td>False</td>\n",
       "      <td>False</td>\n",
       "      <td>False</td>\n",
       "      <td>False</td>\n",
       "      <td>False</td>\n",
       "      <td>False</td>\n",
       "      <td>False</td>\n",
       "      <td>False</td>\n",
       "      <td>False</td>\n",
       "    </tr>\n",
       "    <tr>\n",
       "      <th>2</th>\n",
       "      <td>7.719130</td>\n",
       "      <td>1</td>\n",
       "      <td>2</td>\n",
       "      <td>10.239996</td>\n",
       "      <td>3.162109</td>\n",
       "      <td>2.551746</td>\n",
       "      <td>2.736483</td>\n",
       "      <td>False</td>\n",
       "      <td>True</td>\n",
       "      <td>False</td>\n",
       "      <td>False</td>\n",
       "      <td>False</td>\n",
       "      <td>False</td>\n",
       "      <td>False</td>\n",
       "      <td>False</td>\n",
       "      <td>False</td>\n",
       "      <td>False</td>\n",
       "      <td>False</td>\n",
       "      <td>False</td>\n",
       "    </tr>\n",
       "    <tr>\n",
       "      <th>3</th>\n",
       "      <td>7.208600</td>\n",
       "      <td>1</td>\n",
       "      <td>2</td>\n",
       "      <td>10.239996</td>\n",
       "      <td>3.164682</td>\n",
       "      <td>2.563618</td>\n",
       "      <td>2.720278</td>\n",
       "      <td>False</td>\n",
       "      <td>True</td>\n",
       "      <td>False</td>\n",
       "      <td>False</td>\n",
       "      <td>False</td>\n",
       "      <td>False</td>\n",
       "      <td>False</td>\n",
       "      <td>False</td>\n",
       "      <td>False</td>\n",
       "      <td>False</td>\n",
       "      <td>False</td>\n",
       "      <td>False</td>\n",
       "    </tr>\n",
       "    <tr>\n",
       "      <th>4</th>\n",
       "      <td>6.111467</td>\n",
       "      <td>0</td>\n",
       "      <td>2</td>\n",
       "      <td>9.433564</td>\n",
       "      <td>3.160942</td>\n",
       "      <td>2.448552</td>\n",
       "      <td>3.450400</td>\n",
       "      <td>False</td>\n",
       "      <td>True</td>\n",
       "      <td>False</td>\n",
       "      <td>False</td>\n",
       "      <td>False</td>\n",
       "      <td>False</td>\n",
       "      <td>False</td>\n",
       "      <td>False</td>\n",
       "      <td>False</td>\n",
       "      <td>False</td>\n",
       "      <td>False</td>\n",
       "      <td>False</td>\n",
       "    </tr>\n",
       "  </tbody>\n",
       "</table>\n",
       "</div>"
      ],
      "text/plain": [
       "   size_sq_ft  propertyType  bedrooms      price  AP_dist_km  Aiims_dist_km  \\\n",
       "0    5.993961             1         1   9.105091    3.124178       2.494794   \n",
       "1    6.957497             0         2   9.903538    3.109144       2.343637   \n",
       "2    7.719130             1         2  10.239996    3.162109       2.551746   \n",
       "3    7.208600             1         2  10.239996    3.164682       2.563618   \n",
       "4    6.111467             0         2   9.433564    3.160942       2.448552   \n",
       "\n",
       "   NDRLW_dist_km  suburb_Delhi Central  suburb_Delhi East  suburb_Delhi North  \\\n",
       "0       2.481289                 False               True               False   \n",
       "1       3.228757                 False               True               False   \n",
       "2       2.736483                 False               True               False   \n",
       "3       2.720278                 False               True               False   \n",
       "4       3.450400                 False               True               False   \n",
       "\n",
       "   suburb_Delhi South  suburb_Delhi West  suburb_Dwarka  suburb_North Delhi  \\\n",
       "0               False              False          False               False   \n",
       "1               False              False          False               False   \n",
       "2               False              False          False               False   \n",
       "3               False              False          False               False   \n",
       "4               False              False          False               False   \n",
       "\n",
       "   suburb_North West Delhi  suburb_Other  suburb_Rohini  \\\n",
       "0                    False         False          False   \n",
       "1                    False         False          False   \n",
       "2                    False         False          False   \n",
       "3                    False         False          False   \n",
       "4                    False         False          False   \n",
       "\n",
       "   suburb_South West Delhi  suburb_West Delhi  \n",
       "0                    False              False  \n",
       "1                    False              False  \n",
       "2                    False              False  \n",
       "3                    False              False  \n",
       "4                    False              False  "
      ]
     },
     "execution_count": 78,
     "metadata": {},
     "output_type": "execute_result"
    }
   ],
   "source": [
    "df.head()"
   ]
  },
  {
   "cell_type": "code",
   "execution_count": 79,
   "id": "7e208b75-67b1-481c-8e7f-b09d53f0eb38",
   "metadata": {},
   "outputs": [],
   "source": [
    "df.to_excel('property_price_prediction_data.xlsx', index = False)"
   ]
  },
  {
   "cell_type": "code",
   "execution_count": 80,
   "id": "bbcd208c-8200-4622-9cea-87be97d64965",
   "metadata": {},
   "outputs": [
    {
     "data": {
      "text/plain": [
       "'E:\\\\Data Science by SRK\\\\Github\\\\Machine_learning\\\\Regression_projects\\\\Property_price_prediction'"
      ]
     },
     "execution_count": 80,
     "metadata": {},
     "output_type": "execute_result"
    }
   ],
   "source": [
    "pwd"
   ]
  },
  {
   "cell_type": "code",
   "execution_count": null,
   "id": "8c5a9e19-f444-4208-82e1-2f17af023b22",
   "metadata": {},
   "outputs": [],
   "source": []
  }
 ],
 "metadata": {
  "kernelspec": {
   "display_name": "Python 3 (ipykernel)",
   "language": "python",
   "name": "python3"
  },
  "language_info": {
   "codemirror_mode": {
    "name": "ipython",
    "version": 3
   },
   "file_extension": ".py",
   "mimetype": "text/x-python",
   "name": "python",
   "nbconvert_exporter": "python",
   "pygments_lexer": "ipython3",
   "version": "3.12.4"
  }
 },
 "nbformat": 4,
 "nbformat_minor": 5
}
